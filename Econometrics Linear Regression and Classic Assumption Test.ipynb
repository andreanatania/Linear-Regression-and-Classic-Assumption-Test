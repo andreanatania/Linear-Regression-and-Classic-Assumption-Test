{
 "cells": [
  {
   "cell_type": "markdown",
   "metadata": {
    "id": "yIJWcWsfagn9"
   },
   "source": [
    "# <font color=#CA1F7B>**Pengaruh Aktivitas dan Subscription Aplikasi terhadap Pengeluaran Mahasiswa**</font>"
   ]
  },
  {
   "cell_type": "markdown",
   "metadata": {},
   "source": [
    "### <font color=tosca>**Group 2 Class C:**</font>\n",
    "\n",
    "- Livia Novita Gianto 23102010003\n",
    "- Felix Budhi Santoso 23102010028\n",
    "- Nathania Gunawan 23102010070\n",
    "- Alina Florencia Karuniawati 23102010073\n",
    "- Andrea Nathania 23102010092"
   ]
  },
  {
   "cell_type": "markdown",
   "metadata": {
    "id": "HQAMwF_qUjVr"
   },
   "source": [
    "### <font color=tosca>**Latar Belakang Pemilihan Topik:**</font>\n",
    "\n",
    "Pandemi Covid-19 telah membuat mahasiswa menjadi lebih fleksibel dalam hal waktu dan konsumtif dalam berbelanja. Terbukti dengan sering ditemuinya mahasiswa yang dapat mengikuti kegiatan perkuliahan, meskipun sedang bepergian, seperti ke luar kota, cafe, mall, taman bermain, dan lain sebagainya. Lebih lanjut, selama pandemi juga dikatakan bahwa berbelanja dapat dilakukan dengan lebih mudah menggunakan berbagai platform online. Berdasarkan survei yang dilaksanakan oleh BPS dijelaskan bahwa terjadi peningkatan sebesar 42% dalam aktivitas berbelanja online yang dilakukan oleh generasi milenial selama pandemi. Selain kedua hal tersebut, pandemi Covid-19 juga menyebabkan peningkatan jumlah permintaan terhadap subscription sejumlah aplikasi, seperti netflix, spotify, disney+, chegg, dan lain sebagainya. Sebagai contoh, aplikasi chegg menjadi semakin populer di kalangan mahasiswa ketika pandemi karena aplikasi ini dapat membantu mahasiswa untuk belajar secara online. Lebih lanjut, aplikasi lain yang mengalami peningkatan pesat terkait dengan jumlah pelanggan di tengah pandemi adalah Netflix dengan pertambahan pelanggan mencapai 37 juta pada tahun 2020. Berdasarkan fakta-fakta tersebut, kami tertarik untuk menganalisis lebih lanjut seberapa berpengaruhnya belanja online, bepergian, dan subscription aplikasi terhadap pengeluaran mahasiswa."
   ]
  },
  {
   "cell_type": "markdown",
   "metadata": {
    "id": "BJ-VqzYFdqLA"
   },
   "source": [
    "### <font color=tosca>**Rumusan masalah:**</font>\n",
    "\n",
    "- Bagaimana pengaruh aktivitas berbelanja online, bepergian, dan subscription aplikasi terhadap pengeluaran mahasiswa dalam 1 bulan?\n",
    "\n",
    "### <font color=tosca>**Batasan masalah:**</font>\n",
    "\n",
    "- Penelitian ini hanya ditujukan kepada seluruh anak muda yang berstatus mahasiswa di Indonesia yang memiliki rentang umur 17 tahun hingga 22 tahun."
   ]
  },
  {
   "cell_type": "markdown",
   "metadata": {
    "id": "P6BbJ9ca_af5"
   },
   "source": [
    "### <font color=#683257>**Import Package**</font>"
   ]
  },
  {
   "cell_type": "code",
   "execution_count": 1,
   "metadata": {
    "colab": {
     "base_uri": "https://localhost:8080/"
    },
    "id": "fPwxM2VE-zbi",
    "outputId": "b27c9638-3f3a-4c01-90da-412d4a305fa3"
   },
   "outputs": [],
   "source": [
    "import pandas as pd\n",
    "import numpy as np\n",
    "\n",
    "from matplotlib import pyplot as plt\n",
    "import seaborn as sns\n",
    "from sklearn.linear_model import LinearRegression\n",
    "\n",
    "import statsmodels.api as sm\n",
    "from statsmodels.stats.outliers_influence import variance_inflation_factor\n",
    "\n",
    "import sys\n",
    "\n",
    "if not sys.warnoptions:\n",
    "    import warnings\n",
    "    warnings.simplefilter(\"ignore\")\n",
    "    \n",
    "from statsmodels.stats.diagnostic import normal_ad"
   ]
  },
  {
   "cell_type": "markdown",
   "metadata": {
    "id": "GpmfU7GwfXNu"
   },
   "source": [
    "### <font color=#683257> Overview Data"
   ]
  },
  {
   "cell_type": "code",
   "execution_count": 2,
   "metadata": {
    "colab": {
     "base_uri": "https://localhost:8080/",
     "height": 728
    },
    "id": "hb4ww4G-_NQR",
    "outputId": "bdef7f7d-de3c-4b65-cb75-968817f7c0e5"
   },
   "outputs": [
    {
     "data": {
      "text/html": [
       "<div>\n",
       "<style scoped>\n",
       "    .dataframe tbody tr th:only-of-type {\n",
       "        vertical-align: middle;\n",
       "    }\n",
       "\n",
       "    .dataframe tbody tr th {\n",
       "        vertical-align: top;\n",
       "    }\n",
       "\n",
       "    .dataframe thead th {\n",
       "        text-align: right;\n",
       "    }\n",
       "</style>\n",
       "<table border=\"1\" class=\"dataframe\">\n",
       "  <thead>\n",
       "    <tr style=\"text-align: right;\">\n",
       "      <th></th>\n",
       "      <th>Timestamp</th>\n",
       "      <th>Asal Universitas</th>\n",
       "      <th>Jenis Kelamin</th>\n",
       "      <th>Usia</th>\n",
       "      <th>Berapa rata-rata jumlah pengeluaran anda dalam satu bulan? (Isi dengan angka misal: 300000)</th>\n",
       "      <th>Berapa kali Anda berbelanja online dalam 1 bulan? (isi dengan angka, misal: 2)</th>\n",
       "      <th>Frekuensi bepergian ke luar rumah dalam 1 bulan (isi dengan angka, misal: 2)</th>\n",
       "      <th>Berapa banyak subscription aplikasi (netflix, chegg, course hero, disney+, viu, dsb) yang anda miliki dalam 1 bulan? (isi dalam satuan banyaknya aplikasi, misal: 2)</th>\n",
       "    </tr>\n",
       "  </thead>\n",
       "  <tbody>\n",
       "    <tr>\n",
       "      <th>0</th>\n",
       "      <td>2022-03-31 17:37:42.149</td>\n",
       "      <td>Universitas Prasetiya Mulya</td>\n",
       "      <td>Female</td>\n",
       "      <td>19.0</td>\n",
       "      <td>2000000.0</td>\n",
       "      <td>2.0</td>\n",
       "      <td>8.0</td>\n",
       "      <td>3.0</td>\n",
       "    </tr>\n",
       "    <tr>\n",
       "      <th>1</th>\n",
       "      <td>2022-03-31 17:43:32.768</td>\n",
       "      <td>Universitas Prasetiya Mulya</td>\n",
       "      <td>Female</td>\n",
       "      <td>20.0</td>\n",
       "      <td>630000.0</td>\n",
       "      <td>1.0</td>\n",
       "      <td>1.0</td>\n",
       "      <td>5.0</td>\n",
       "    </tr>\n",
       "    <tr>\n",
       "      <th>2</th>\n",
       "      <td>2022-03-31 17:48:24.389</td>\n",
       "      <td>Universitas Prasetiya Mulya</td>\n",
       "      <td>Female</td>\n",
       "      <td>19.0</td>\n",
       "      <td>300000.0</td>\n",
       "      <td>2.0</td>\n",
       "      <td>3.0</td>\n",
       "      <td>2.0</td>\n",
       "    </tr>\n",
       "    <tr>\n",
       "      <th>3</th>\n",
       "      <td>2022-03-31 17:55:31.155</td>\n",
       "      <td>Universitas Prasetiya Mulya</td>\n",
       "      <td>Female</td>\n",
       "      <td>19.0</td>\n",
       "      <td>500000.0</td>\n",
       "      <td>10.0</td>\n",
       "      <td>8.0</td>\n",
       "      <td>1.0</td>\n",
       "    </tr>\n",
       "    <tr>\n",
       "      <th>4</th>\n",
       "      <td>2022-03-31 17:58:26.919</td>\n",
       "      <td>Universitas Prasetiya Mulya</td>\n",
       "      <td>Male</td>\n",
       "      <td>21.0</td>\n",
       "      <td>1000000.0</td>\n",
       "      <td>1.0</td>\n",
       "      <td>7.0</td>\n",
       "      <td>2.0</td>\n",
       "    </tr>\n",
       "    <tr>\n",
       "      <th>...</th>\n",
       "      <td>...</td>\n",
       "      <td>...</td>\n",
       "      <td>...</td>\n",
       "      <td>...</td>\n",
       "      <td>...</td>\n",
       "      <td>...</td>\n",
       "      <td>...</td>\n",
       "      <td>...</td>\n",
       "    </tr>\n",
       "    <tr>\n",
       "      <th>56</th>\n",
       "      <td>2022-04-01 10:56:49.502</td>\n",
       "      <td>Universitas Prasetiya Mulya</td>\n",
       "      <td>Female</td>\n",
       "      <td>19.0</td>\n",
       "      <td>2000000.0</td>\n",
       "      <td>2.0</td>\n",
       "      <td>7.0</td>\n",
       "      <td>0.0</td>\n",
       "    </tr>\n",
       "    <tr>\n",
       "      <th>57</th>\n",
       "      <td>2022-04-01 10:57:27.844</td>\n",
       "      <td>Universitas Prasetiya Mulya</td>\n",
       "      <td>Female</td>\n",
       "      <td>19.0</td>\n",
       "      <td>1000000.0</td>\n",
       "      <td>5.0</td>\n",
       "      <td>7.0</td>\n",
       "      <td>1.0</td>\n",
       "    </tr>\n",
       "    <tr>\n",
       "      <th>58</th>\n",
       "      <td>2022-04-01 11:01:17.295</td>\n",
       "      <td>Universitas Prasetiya Mulya</td>\n",
       "      <td>Male</td>\n",
       "      <td>19.0</td>\n",
       "      <td>500000.0</td>\n",
       "      <td>1.0</td>\n",
       "      <td>2.0</td>\n",
       "      <td>1.0</td>\n",
       "    </tr>\n",
       "    <tr>\n",
       "      <th>59</th>\n",
       "      <td>2022-04-01 11:14:22.648</td>\n",
       "      <td>Eksternal Universitas Prasetiya Mulya</td>\n",
       "      <td>Female</td>\n",
       "      <td>20.0</td>\n",
       "      <td>4500000.0</td>\n",
       "      <td>6.0</td>\n",
       "      <td>15.0</td>\n",
       "      <td>7.0</td>\n",
       "    </tr>\n",
       "    <tr>\n",
       "      <th>60</th>\n",
       "      <td>2022-04-01 11:16:16.129</td>\n",
       "      <td>Eksternal Universitas Prasetiya Mulya</td>\n",
       "      <td>Female</td>\n",
       "      <td>20.0</td>\n",
       "      <td>3600000.0</td>\n",
       "      <td>6.0</td>\n",
       "      <td>14.0</td>\n",
       "      <td>7.0</td>\n",
       "    </tr>\n",
       "  </tbody>\n",
       "</table>\n",
       "<p>61 rows × 8 columns</p>\n",
       "</div>"
      ],
      "text/plain": [
       "                 Timestamp                       Asal Universitas  \\\n",
       "0  2022-03-31 17:37:42.149            Universitas Prasetiya Mulya   \n",
       "1  2022-03-31 17:43:32.768            Universitas Prasetiya Mulya   \n",
       "2  2022-03-31 17:48:24.389            Universitas Prasetiya Mulya   \n",
       "3  2022-03-31 17:55:31.155            Universitas Prasetiya Mulya   \n",
       "4  2022-03-31 17:58:26.919            Universitas Prasetiya Mulya   \n",
       "..                     ...                                    ...   \n",
       "56 2022-04-01 10:56:49.502            Universitas Prasetiya Mulya   \n",
       "57 2022-04-01 10:57:27.844            Universitas Prasetiya Mulya   \n",
       "58 2022-04-01 11:01:17.295            Universitas Prasetiya Mulya   \n",
       "59 2022-04-01 11:14:22.648  Eksternal Universitas Prasetiya Mulya   \n",
       "60 2022-04-01 11:16:16.129  Eksternal Universitas Prasetiya Mulya   \n",
       "\n",
       "   Jenis Kelamin  Usia  \\\n",
       "0         Female  19.0   \n",
       "1         Female  20.0   \n",
       "2         Female  19.0   \n",
       "3         Female  19.0   \n",
       "4           Male  21.0   \n",
       "..           ...   ...   \n",
       "56        Female  19.0   \n",
       "57        Female  19.0   \n",
       "58          Male  19.0   \n",
       "59        Female  20.0   \n",
       "60        Female  20.0   \n",
       "\n",
       "    Berapa rata-rata jumlah pengeluaran anda dalam satu bulan? (Isi dengan angka misal: 300000)  \\\n",
       "0                                           2000000.0                                             \n",
       "1                                            630000.0                                             \n",
       "2                                            300000.0                                             \n",
       "3                                            500000.0                                             \n",
       "4                                           1000000.0                                             \n",
       "..                                                ...                                             \n",
       "56                                          2000000.0                                             \n",
       "57                                          1000000.0                                             \n",
       "58                                           500000.0                                             \n",
       "59                                          4500000.0                                             \n",
       "60                                          3600000.0                                             \n",
       "\n",
       "    Berapa kali Anda berbelanja online dalam 1 bulan? (isi dengan angka, misal: 2)  \\\n",
       "0                                                 2.0                                \n",
       "1                                                 1.0                                \n",
       "2                                                 2.0                                \n",
       "3                                                10.0                                \n",
       "4                                                 1.0                                \n",
       "..                                                ...                                \n",
       "56                                                2.0                                \n",
       "57                                                5.0                                \n",
       "58                                                1.0                                \n",
       "59                                                6.0                                \n",
       "60                                                6.0                                \n",
       "\n",
       "    Frekuensi bepergian ke luar rumah dalam 1 bulan (isi dengan angka, misal: 2)  \\\n",
       "0                                                 8.0                              \n",
       "1                                                 1.0                              \n",
       "2                                                 3.0                              \n",
       "3                                                 8.0                              \n",
       "4                                                 7.0                              \n",
       "..                                                ...                              \n",
       "56                                                7.0                              \n",
       "57                                                7.0                              \n",
       "58                                                2.0                              \n",
       "59                                               15.0                              \n",
       "60                                               14.0                              \n",
       "\n",
       "    Berapa banyak subscription aplikasi (netflix, chegg, course hero, disney+, viu, dsb) yang anda miliki dalam 1 bulan? (isi dalam satuan banyaknya aplikasi, misal: 2)  \n",
       "0                                                 3.0                                                                                                                     \n",
       "1                                                 5.0                                                                                                                     \n",
       "2                                                 2.0                                                                                                                     \n",
       "3                                                 1.0                                                                                                                     \n",
       "4                                                 2.0                                                                                                                     \n",
       "..                                                ...                                                                                                                     \n",
       "56                                                0.0                                                                                                                     \n",
       "57                                                1.0                                                                                                                     \n",
       "58                                                1.0                                                                                                                     \n",
       "59                                                7.0                                                                                                                     \n",
       "60                                                7.0                                                                                                                     \n",
       "\n",
       "[61 rows x 8 columns]"
      ]
     },
     "execution_count": 2,
     "metadata": {},
     "output_type": "execute_result"
    }
   ],
   "source": [
    "df = pd.read_excel('Survei Pengeluaran Mahasiswa (Jawaban).xlsx')\n",
    "df"
   ]
  },
  {
   "cell_type": "markdown",
   "metadata": {
    "id": "X4WGxX8CMLTL"
   },
   "source": [
    "Data di atas diambil melalui survei yang dilakukan melalui google form yang disebarkan kepada mahasiswa di Indonesia. Pada survei tersebut terdapat 7 pertanyaan dan didapatkan 61 responden. "
   ]
  },
  {
   "cell_type": "markdown",
   "metadata": {
    "id": "kYrBc8iio-Z7"
   },
   "source": [
    "#### <font color=#683257>Rename Column"
   ]
  },
  {
   "cell_type": "code",
   "execution_count": 3,
   "metadata": {
    "colab": {
     "base_uri": "https://localhost:8080/",
     "height": 424
    },
    "id": "R18efVXSq3cZ",
    "outputId": "f537258c-d91b-4db8-bdf1-fc004288bf54"
   },
   "outputs": [
    {
     "data": {
      "text/html": [
       "<div>\n",
       "<style scoped>\n",
       "    .dataframe tbody tr th:only-of-type {\n",
       "        vertical-align: middle;\n",
       "    }\n",
       "\n",
       "    .dataframe tbody tr th {\n",
       "        vertical-align: top;\n",
       "    }\n",
       "\n",
       "    .dataframe thead th {\n",
       "        text-align: right;\n",
       "    }\n",
       "</style>\n",
       "<table border=\"1\" class=\"dataframe\">\n",
       "  <thead>\n",
       "    <tr style=\"text-align: right;\">\n",
       "      <th></th>\n",
       "      <th>Timestamp</th>\n",
       "      <th>Asal Universitas</th>\n",
       "      <th>Jenis Kelamin</th>\n",
       "      <th>Usia</th>\n",
       "      <th>Y</th>\n",
       "      <th>X1</th>\n",
       "      <th>X2</th>\n",
       "      <th>X3</th>\n",
       "    </tr>\n",
       "  </thead>\n",
       "  <tbody>\n",
       "    <tr>\n",
       "      <th>0</th>\n",
       "      <td>2022-03-31 17:37:42.149</td>\n",
       "      <td>Universitas Prasetiya Mulya</td>\n",
       "      <td>Female</td>\n",
       "      <td>19.0</td>\n",
       "      <td>2000000.0</td>\n",
       "      <td>2.0</td>\n",
       "      <td>8.0</td>\n",
       "      <td>3.0</td>\n",
       "    </tr>\n",
       "    <tr>\n",
       "      <th>1</th>\n",
       "      <td>2022-03-31 17:43:32.768</td>\n",
       "      <td>Universitas Prasetiya Mulya</td>\n",
       "      <td>Female</td>\n",
       "      <td>20.0</td>\n",
       "      <td>630000.0</td>\n",
       "      <td>1.0</td>\n",
       "      <td>1.0</td>\n",
       "      <td>5.0</td>\n",
       "    </tr>\n",
       "    <tr>\n",
       "      <th>2</th>\n",
       "      <td>2022-03-31 17:48:24.389</td>\n",
       "      <td>Universitas Prasetiya Mulya</td>\n",
       "      <td>Female</td>\n",
       "      <td>19.0</td>\n",
       "      <td>300000.0</td>\n",
       "      <td>2.0</td>\n",
       "      <td>3.0</td>\n",
       "      <td>2.0</td>\n",
       "    </tr>\n",
       "    <tr>\n",
       "      <th>3</th>\n",
       "      <td>2022-03-31 17:55:31.155</td>\n",
       "      <td>Universitas Prasetiya Mulya</td>\n",
       "      <td>Female</td>\n",
       "      <td>19.0</td>\n",
       "      <td>500000.0</td>\n",
       "      <td>10.0</td>\n",
       "      <td>8.0</td>\n",
       "      <td>1.0</td>\n",
       "    </tr>\n",
       "    <tr>\n",
       "      <th>4</th>\n",
       "      <td>2022-03-31 17:58:26.919</td>\n",
       "      <td>Universitas Prasetiya Mulya</td>\n",
       "      <td>Male</td>\n",
       "      <td>21.0</td>\n",
       "      <td>1000000.0</td>\n",
       "      <td>1.0</td>\n",
       "      <td>7.0</td>\n",
       "      <td>2.0</td>\n",
       "    </tr>\n",
       "    <tr>\n",
       "      <th>...</th>\n",
       "      <td>...</td>\n",
       "      <td>...</td>\n",
       "      <td>...</td>\n",
       "      <td>...</td>\n",
       "      <td>...</td>\n",
       "      <td>...</td>\n",
       "      <td>...</td>\n",
       "      <td>...</td>\n",
       "    </tr>\n",
       "    <tr>\n",
       "      <th>56</th>\n",
       "      <td>2022-04-01 10:56:49.502</td>\n",
       "      <td>Universitas Prasetiya Mulya</td>\n",
       "      <td>Female</td>\n",
       "      <td>19.0</td>\n",
       "      <td>2000000.0</td>\n",
       "      <td>2.0</td>\n",
       "      <td>7.0</td>\n",
       "      <td>0.0</td>\n",
       "    </tr>\n",
       "    <tr>\n",
       "      <th>57</th>\n",
       "      <td>2022-04-01 10:57:27.844</td>\n",
       "      <td>Universitas Prasetiya Mulya</td>\n",
       "      <td>Female</td>\n",
       "      <td>19.0</td>\n",
       "      <td>1000000.0</td>\n",
       "      <td>5.0</td>\n",
       "      <td>7.0</td>\n",
       "      <td>1.0</td>\n",
       "    </tr>\n",
       "    <tr>\n",
       "      <th>58</th>\n",
       "      <td>2022-04-01 11:01:17.295</td>\n",
       "      <td>Universitas Prasetiya Mulya</td>\n",
       "      <td>Male</td>\n",
       "      <td>19.0</td>\n",
       "      <td>500000.0</td>\n",
       "      <td>1.0</td>\n",
       "      <td>2.0</td>\n",
       "      <td>1.0</td>\n",
       "    </tr>\n",
       "    <tr>\n",
       "      <th>59</th>\n",
       "      <td>2022-04-01 11:14:22.648</td>\n",
       "      <td>Eksternal Universitas Prasetiya Mulya</td>\n",
       "      <td>Female</td>\n",
       "      <td>20.0</td>\n",
       "      <td>4500000.0</td>\n",
       "      <td>6.0</td>\n",
       "      <td>15.0</td>\n",
       "      <td>7.0</td>\n",
       "    </tr>\n",
       "    <tr>\n",
       "      <th>60</th>\n",
       "      <td>2022-04-01 11:16:16.129</td>\n",
       "      <td>Eksternal Universitas Prasetiya Mulya</td>\n",
       "      <td>Female</td>\n",
       "      <td>20.0</td>\n",
       "      <td>3600000.0</td>\n",
       "      <td>6.0</td>\n",
       "      <td>14.0</td>\n",
       "      <td>7.0</td>\n",
       "    </tr>\n",
       "  </tbody>\n",
       "</table>\n",
       "<p>61 rows × 8 columns</p>\n",
       "</div>"
      ],
      "text/plain": [
       "                 Timestamp                       Asal Universitas  \\\n",
       "0  2022-03-31 17:37:42.149            Universitas Prasetiya Mulya   \n",
       "1  2022-03-31 17:43:32.768            Universitas Prasetiya Mulya   \n",
       "2  2022-03-31 17:48:24.389            Universitas Prasetiya Mulya   \n",
       "3  2022-03-31 17:55:31.155            Universitas Prasetiya Mulya   \n",
       "4  2022-03-31 17:58:26.919            Universitas Prasetiya Mulya   \n",
       "..                     ...                                    ...   \n",
       "56 2022-04-01 10:56:49.502            Universitas Prasetiya Mulya   \n",
       "57 2022-04-01 10:57:27.844            Universitas Prasetiya Mulya   \n",
       "58 2022-04-01 11:01:17.295            Universitas Prasetiya Mulya   \n",
       "59 2022-04-01 11:14:22.648  Eksternal Universitas Prasetiya Mulya   \n",
       "60 2022-04-01 11:16:16.129  Eksternal Universitas Prasetiya Mulya   \n",
       "\n",
       "   Jenis Kelamin  Usia          Y    X1    X2   X3  \n",
       "0         Female  19.0  2000000.0   2.0   8.0  3.0  \n",
       "1         Female  20.0   630000.0   1.0   1.0  5.0  \n",
       "2         Female  19.0   300000.0   2.0   3.0  2.0  \n",
       "3         Female  19.0   500000.0  10.0   8.0  1.0  \n",
       "4           Male  21.0  1000000.0   1.0   7.0  2.0  \n",
       "..           ...   ...        ...   ...   ...  ...  \n",
       "56        Female  19.0  2000000.0   2.0   7.0  0.0  \n",
       "57        Female  19.0  1000000.0   5.0   7.0  1.0  \n",
       "58          Male  19.0   500000.0   1.0   2.0  1.0  \n",
       "59        Female  20.0  4500000.0   6.0  15.0  7.0  \n",
       "60        Female  20.0  3600000.0   6.0  14.0  7.0  \n",
       "\n",
       "[61 rows x 8 columns]"
      ]
     },
     "execution_count": 3,
     "metadata": {},
     "output_type": "execute_result"
    }
   ],
   "source": [
    "df = df.rename(columns={'Berapa rata-rata jumlah pengeluaran anda dalam satu bulan? (Isi dengan angka misal: 300000)':'Y','Berapa kali Anda berbelanja online dalam 1 bulan? (isi dengan angka, misal: 2)':'X1','Frekuensi bepergian ke luar rumah dalam 1 bulan (isi dengan angka, misal: 2)':'X2','Berapa banyak subscription aplikasi (netflix, chegg, course hero, disney+, viu, dsb) yang anda miliki dalam 1 bulan? (isi dalam satuan banyaknya aplikasi, misal: 2)':'X3'})\n",
    "df"
   ]
  },
  {
   "cell_type": "markdown",
   "metadata": {
    "id": "UIwG0dpCOcag"
   },
   "source": [
    "**Keterangan:**\n",
    "\n",
    "- Y: Rata-rata Pengeluaran Mahasiswa di Indonesia dalam 1 Bulan (dalam satuan Rupiah)\n",
    "- X1: Frekuensi belanja online dalam 1 Bulan (dalam satuan kali)\n",
    "- X2: Frekuensi bepergian ke luar rumah dalam 1 Bulan (dalam satuan kali)\n",
    "- X3: Jumlah Subscription aplikasi dalam 1 Bulan (dalam satuan banyak)"
   ]
  },
  {
   "cell_type": "markdown",
   "metadata": {
    "id": "vu37VduoMlQd"
   },
   "source": [
    "### <font color=green>Data Cleaning"
   ]
  },
  {
   "cell_type": "markdown",
   "metadata": {
    "id": "FclBTOaeL4tY"
   },
   "source": [
    "##### <font color=green>Check Missing Value"
   ]
  },
  {
   "cell_type": "code",
   "execution_count": 4,
   "metadata": {
    "colab": {
     "base_uri": "https://localhost:8080/"
    },
    "id": "vDM9lZ1oq3wG",
    "outputId": "858bf501-54de-4ce3-842e-b8a3badb6026"
   },
   "outputs": [
    {
     "data": {
      "text/plain": [
       "Timestamp           0\n",
       "Asal Universitas    0\n",
       "Jenis Kelamin       1\n",
       "Usia                0\n",
       "Y                   0\n",
       "X1                  0\n",
       "X2                  0\n",
       "X3                  0\n",
       "dtype: int64"
      ]
     },
     "execution_count": 4,
     "metadata": {},
     "output_type": "execute_result"
    }
   ],
   "source": [
    "df.isnull().sum()"
   ]
  },
  {
   "cell_type": "markdown",
   "metadata": {
    "id": "n2hWHkYLLIYe"
   },
   "source": [
    "Berdasarkan pengecekan di atas dapat dilihat bahwa kolom yang memiliki missing value hanya jenis kelamin (1 data). Akan tetapi, kolom ini tidak digunakan untuk analisis, sehingga missing value tidak perlu untuk dibuang."
   ]
  },
  {
   "cell_type": "markdown",
   "metadata": {
    "id": "TtpCyCI0MXil"
   },
   "source": [
    "##### <font color=green>Check Duplicated Data"
   ]
  },
  {
   "cell_type": "code",
   "execution_count": 5,
   "metadata": {
    "colab": {
     "base_uri": "https://localhost:8080/"
    },
    "id": "FPGjSFIhMbaN",
    "outputId": "c7d80dc6-94b7-4bab-fe08-fae3d8eb416c"
   },
   "outputs": [
    {
     "data": {
      "text/plain": [
       "0"
      ]
     },
     "execution_count": 5,
     "metadata": {},
     "output_type": "execute_result"
    }
   ],
   "source": [
    "df.duplicated().sum()"
   ]
  },
  {
   "cell_type": "markdown",
   "metadata": {
    "id": "K54wkRFhMd-v"
   },
   "source": [
    "Berdasarkan hasil di atas dapat dilihat bahwa tidak ada data yang duplikat"
   ]
  },
  {
   "cell_type": "markdown",
   "metadata": {
    "id": "zYgNsokzpEn-"
   },
   "source": [
    "##### <font color=green> Drop Unnecessary Columns"
   ]
  },
  {
   "cell_type": "code",
   "execution_count": 6,
   "metadata": {
    "colab": {
     "base_uri": "https://localhost:8080/",
     "height": 424
    },
    "id": "6SCTDIxlq3Gm",
    "outputId": "0058df73-0255-4f13-9f40-02cfce53eef2"
   },
   "outputs": [
    {
     "data": {
      "text/html": [
       "<div>\n",
       "<style scoped>\n",
       "    .dataframe tbody tr th:only-of-type {\n",
       "        vertical-align: middle;\n",
       "    }\n",
       "\n",
       "    .dataframe tbody tr th {\n",
       "        vertical-align: top;\n",
       "    }\n",
       "\n",
       "    .dataframe thead th {\n",
       "        text-align: right;\n",
       "    }\n",
       "</style>\n",
       "<table border=\"1\" class=\"dataframe\">\n",
       "  <thead>\n",
       "    <tr style=\"text-align: right;\">\n",
       "      <th></th>\n",
       "      <th>Y</th>\n",
       "      <th>X1</th>\n",
       "      <th>X2</th>\n",
       "      <th>X3</th>\n",
       "    </tr>\n",
       "  </thead>\n",
       "  <tbody>\n",
       "    <tr>\n",
       "      <th>0</th>\n",
       "      <td>2000000.0</td>\n",
       "      <td>2.0</td>\n",
       "      <td>8.0</td>\n",
       "      <td>3.0</td>\n",
       "    </tr>\n",
       "    <tr>\n",
       "      <th>1</th>\n",
       "      <td>630000.0</td>\n",
       "      <td>1.0</td>\n",
       "      <td>1.0</td>\n",
       "      <td>5.0</td>\n",
       "    </tr>\n",
       "    <tr>\n",
       "      <th>2</th>\n",
       "      <td>300000.0</td>\n",
       "      <td>2.0</td>\n",
       "      <td>3.0</td>\n",
       "      <td>2.0</td>\n",
       "    </tr>\n",
       "    <tr>\n",
       "      <th>3</th>\n",
       "      <td>500000.0</td>\n",
       "      <td>10.0</td>\n",
       "      <td>8.0</td>\n",
       "      <td>1.0</td>\n",
       "    </tr>\n",
       "    <tr>\n",
       "      <th>4</th>\n",
       "      <td>1000000.0</td>\n",
       "      <td>1.0</td>\n",
       "      <td>7.0</td>\n",
       "      <td>2.0</td>\n",
       "    </tr>\n",
       "    <tr>\n",
       "      <th>...</th>\n",
       "      <td>...</td>\n",
       "      <td>...</td>\n",
       "      <td>...</td>\n",
       "      <td>...</td>\n",
       "    </tr>\n",
       "    <tr>\n",
       "      <th>56</th>\n",
       "      <td>2000000.0</td>\n",
       "      <td>2.0</td>\n",
       "      <td>7.0</td>\n",
       "      <td>0.0</td>\n",
       "    </tr>\n",
       "    <tr>\n",
       "      <th>57</th>\n",
       "      <td>1000000.0</td>\n",
       "      <td>5.0</td>\n",
       "      <td>7.0</td>\n",
       "      <td>1.0</td>\n",
       "    </tr>\n",
       "    <tr>\n",
       "      <th>58</th>\n",
       "      <td>500000.0</td>\n",
       "      <td>1.0</td>\n",
       "      <td>2.0</td>\n",
       "      <td>1.0</td>\n",
       "    </tr>\n",
       "    <tr>\n",
       "      <th>59</th>\n",
       "      <td>4500000.0</td>\n",
       "      <td>6.0</td>\n",
       "      <td>15.0</td>\n",
       "      <td>7.0</td>\n",
       "    </tr>\n",
       "    <tr>\n",
       "      <th>60</th>\n",
       "      <td>3600000.0</td>\n",
       "      <td>6.0</td>\n",
       "      <td>14.0</td>\n",
       "      <td>7.0</td>\n",
       "    </tr>\n",
       "  </tbody>\n",
       "</table>\n",
       "<p>61 rows × 4 columns</p>\n",
       "</div>"
      ],
      "text/plain": [
       "            Y    X1    X2   X3\n",
       "0   2000000.0   2.0   8.0  3.0\n",
       "1    630000.0   1.0   1.0  5.0\n",
       "2    300000.0   2.0   3.0  2.0\n",
       "3    500000.0  10.0   8.0  1.0\n",
       "4   1000000.0   1.0   7.0  2.0\n",
       "..        ...   ...   ...  ...\n",
       "56  2000000.0   2.0   7.0  0.0\n",
       "57  1000000.0   5.0   7.0  1.0\n",
       "58   500000.0   1.0   2.0  1.0\n",
       "59  4500000.0   6.0  15.0  7.0\n",
       "60  3600000.0   6.0  14.0  7.0\n",
       "\n",
       "[61 rows x 4 columns]"
      ]
     },
     "execution_count": 6,
     "metadata": {},
     "output_type": "execute_result"
    }
   ],
   "source": [
    "df1 = df[['Y','X1','X2','X3']]\n",
    "df1"
   ]
  },
  {
   "cell_type": "markdown",
   "metadata": {
    "id": "bO1tTxrxpZd7"
   },
   "source": [
    "### <font color=#800000>Basic Statistics"
   ]
  },
  {
   "cell_type": "code",
   "execution_count": 7,
   "metadata": {
    "id": "oxeWeFYAq2ib",
    "scrolled": true
   },
   "outputs": [
    {
     "data": {
      "text/html": [
       "<div>\n",
       "<style scoped>\n",
       "    .dataframe tbody tr th:only-of-type {\n",
       "        vertical-align: middle;\n",
       "    }\n",
       "\n",
       "    .dataframe tbody tr th {\n",
       "        vertical-align: top;\n",
       "    }\n",
       "\n",
       "    .dataframe thead th {\n",
       "        text-align: right;\n",
       "    }\n",
       "</style>\n",
       "<table border=\"1\" class=\"dataframe\">\n",
       "  <thead>\n",
       "    <tr style=\"text-align: right;\">\n",
       "      <th></th>\n",
       "      <th>Y</th>\n",
       "      <th>X1</th>\n",
       "      <th>X2</th>\n",
       "      <th>X3</th>\n",
       "    </tr>\n",
       "  </thead>\n",
       "  <tbody>\n",
       "    <tr>\n",
       "      <th>count</th>\n",
       "      <td>6.100000e+01</td>\n",
       "      <td>61.000000</td>\n",
       "      <td>61.000000</td>\n",
       "      <td>61.000000</td>\n",
       "    </tr>\n",
       "    <tr>\n",
       "      <th>mean</th>\n",
       "      <td>1.676721e+06</td>\n",
       "      <td>3.098361</td>\n",
       "      <td>7.000000</td>\n",
       "      <td>2.147541</td>\n",
       "    </tr>\n",
       "    <tr>\n",
       "      <th>std</th>\n",
       "      <td>1.740710e+06</td>\n",
       "      <td>2.706196</td>\n",
       "      <td>5.477226</td>\n",
       "      <td>2.619390</td>\n",
       "    </tr>\n",
       "    <tr>\n",
       "      <th>min</th>\n",
       "      <td>1.000000e+05</td>\n",
       "      <td>0.000000</td>\n",
       "      <td>0.000000</td>\n",
       "      <td>0.000000</td>\n",
       "    </tr>\n",
       "    <tr>\n",
       "      <th>25%</th>\n",
       "      <td>5.000000e+05</td>\n",
       "      <td>1.000000</td>\n",
       "      <td>3.000000</td>\n",
       "      <td>1.000000</td>\n",
       "    </tr>\n",
       "    <tr>\n",
       "      <th>50%</th>\n",
       "      <td>1.000000e+06</td>\n",
       "      <td>2.000000</td>\n",
       "      <td>5.000000</td>\n",
       "      <td>2.000000</td>\n",
       "    </tr>\n",
       "    <tr>\n",
       "      <th>75%</th>\n",
       "      <td>2.500000e+06</td>\n",
       "      <td>3.000000</td>\n",
       "      <td>10.000000</td>\n",
       "      <td>2.000000</td>\n",
       "    </tr>\n",
       "    <tr>\n",
       "      <th>max</th>\n",
       "      <td>1.050000e+07</td>\n",
       "      <td>15.000000</td>\n",
       "      <td>26.000000</td>\n",
       "      <td>15.000000</td>\n",
       "    </tr>\n",
       "  </tbody>\n",
       "</table>\n",
       "</div>"
      ],
      "text/plain": [
       "                  Y         X1         X2         X3\n",
       "count  6.100000e+01  61.000000  61.000000  61.000000\n",
       "mean   1.676721e+06   3.098361   7.000000   2.147541\n",
       "std    1.740710e+06   2.706196   5.477226   2.619390\n",
       "min    1.000000e+05   0.000000   0.000000   0.000000\n",
       "25%    5.000000e+05   1.000000   3.000000   1.000000\n",
       "50%    1.000000e+06   2.000000   5.000000   2.000000\n",
       "75%    2.500000e+06   3.000000  10.000000   2.000000\n",
       "max    1.050000e+07  15.000000  26.000000  15.000000"
      ]
     },
     "execution_count": 7,
     "metadata": {},
     "output_type": "execute_result"
    }
   ],
   "source": [
    "df1.describe()"
   ]
  },
  {
   "cell_type": "markdown",
   "metadata": {},
   "source": [
    "Tabel di atas dapat diinterpretasikan sebagai berikut:\n",
    "\n",
    "- Rata-rata pengeluaran mahasiswa di Indonesia dalam satu bulan adalah sebesar Rp1.676.721,31 dengan standar deviasi sebesar 1740710.31. Sebaran data dari pengeluaran mahasiswa (Y) di Indonesia berada di range mean ± 1 * std, yaitu berada pada rentang -63989 ⩽ Y ⩽ 3417431.62."
   ]
  },
  {
   "cell_type": "code",
   "execution_count": 8,
   "metadata": {},
   "outputs": [
    {
     "data": {
      "text/plain": [
       "Y     2.475824\n",
       "X1    2.281702\n",
       "X2    1.423274\n",
       "X3    2.738886\n",
       "dtype: float64"
      ]
     },
     "execution_count": 8,
     "metadata": {},
     "output_type": "execute_result"
    }
   ],
   "source": [
    "df1.skew()"
   ]
  },
  {
   "cell_type": "markdown",
   "metadata": {},
   "source": [
    "Berdasarkan hasil perhitungan skewness, di atas dapat dilihat bahwa Y, X1, X2, dan X3 tergolong highly skewed karena memiliki nilai skewness lebih besar dari 1. "
   ]
  },
  {
   "cell_type": "markdown",
   "metadata": {
    "id": "PmTUM5YzqD7S"
   },
   "source": [
    "### <font color=#E1AD01>Check Outliers"
   ]
  },
  {
   "cell_type": "code",
   "execution_count": 9,
   "metadata": {
    "id": "iH1aH1xvqMF2"
   },
   "outputs": [
    {
     "data": {
      "image/png": "[encoded data removed]",
      "text/plain": [
       "<Figure size 720x720 with 1 Axes>"
      ]
     },
     "metadata": {
      "needs_background": "light"
     },
     "output_type": "display_data"
    }
   ],
   "source": [
    "df2 = df1.drop(['Y'],axis=1)\n",
    "df2.plot(figsize=(10,10), kind='box')\n",
    "plt.show()"
   ]
  },
  {
   "cell_type": "code",
   "execution_count": 10,
   "metadata": {},
   "outputs": [
    {
     "data": {
      "image/png": "[encoded data removed]",
      "text/plain": [
       "<Figure size 576x576 with 1 Axes>"
      ]
     },
     "metadata": {
      "needs_background": "light"
     },
     "output_type": "display_data"
    }
   ],
   "source": [
    "df3 = df1[['Y']]\n",
    "df3.plot(figsize=(8,8), kind='box')\n",
    "plt.show()"
   ]
  },
  {
   "cell_type": "markdown",
   "metadata": {},
   "source": [
    "Berdasarkan kedua visualisasi di atas, dapat dilihat bahwa kolom Y, X1, X2, X3 memiliki outliers. Akan tetapi, kami memutuskan untuk tidak membuang outliers tersebut karena kami telah mengecek apabila outliers tersebut dibuang, akurasi dari pemodelan regresi akan lebih rendah."
   ]
  },
  {
   "cell_type": "markdown",
   "metadata": {
    "id": "hVwly5vQqNqy"
   },
   "source": [
    "### <font color=#663399> Pair Plot Between Variables"
   ]
  },
  {
   "cell_type": "code",
   "execution_count": 11,
   "metadata": {
    "id": "x9WaH6BIqVYh"
   },
   "outputs": [
    {
     "data": {
      "image/png": "[encoded data removed]",
      "text/plain": [
       "<Figure size 720x720 with 20 Axes>"
      ]
     },
     "metadata": {
      "needs_background": "light"
     },
     "output_type": "display_data"
    }
   ],
   "source": [
    "sns.pairplot(data=df1)\n",
    "plt.show()"
   ]
  },
  {
   "cell_type": "markdown",
   "metadata": {
    "id": "JMgkm2qkqWBy"
   },
   "source": [
    "### <font color=#456990>Correlation Between Variables"
   ]
  },
  {
   "cell_type": "code",
   "execution_count": 12,
   "metadata": {
    "id": "WkAp8dy0qg_1"
   },
   "outputs": [
    {
     "data": {
      "text/html": [
       "<div>\n",
       "<style scoped>\n",
       "    .dataframe tbody tr th:only-of-type {\n",
       "        vertical-align: middle;\n",
       "    }\n",
       "\n",
       "    .dataframe tbody tr th {\n",
       "        vertical-align: top;\n",
       "    }\n",
       "\n",
       "    .dataframe thead th {\n",
       "        text-align: right;\n",
       "    }\n",
       "</style>\n",
       "<table border=\"1\" class=\"dataframe\">\n",
       "  <thead>\n",
       "    <tr style=\"text-align: right;\">\n",
       "      <th></th>\n",
       "      <th>Y</th>\n",
       "      <th>X1</th>\n",
       "      <th>X2</th>\n",
       "      <th>X3</th>\n",
       "    </tr>\n",
       "  </thead>\n",
       "  <tbody>\n",
       "    <tr>\n",
       "      <th>Y</th>\n",
       "      <td>1.000000</td>\n",
       "      <td>0.107838</td>\n",
       "      <td>0.456721</td>\n",
       "      <td>0.210543</td>\n",
       "    </tr>\n",
       "    <tr>\n",
       "      <th>X1</th>\n",
       "      <td>0.107838</td>\n",
       "      <td>1.000000</td>\n",
       "      <td>0.102322</td>\n",
       "      <td>0.282414</td>\n",
       "    </tr>\n",
       "    <tr>\n",
       "      <th>X2</th>\n",
       "      <td>0.456721</td>\n",
       "      <td>0.102322</td>\n",
       "      <td>1.000000</td>\n",
       "      <td>0.392649</td>\n",
       "    </tr>\n",
       "    <tr>\n",
       "      <th>X3</th>\n",
       "      <td>0.210543</td>\n",
       "      <td>0.282414</td>\n",
       "      <td>0.392649</td>\n",
       "      <td>1.000000</td>\n",
       "    </tr>\n",
       "  </tbody>\n",
       "</table>\n",
       "</div>"
      ],
      "text/plain": [
       "           Y        X1        X2        X3\n",
       "Y   1.000000  0.107838  0.456721  0.210543\n",
       "X1  0.107838  1.000000  0.102322  0.282414\n",
       "X2  0.456721  0.102322  1.000000  0.392649\n",
       "X3  0.210543  0.282414  0.392649  1.000000"
      ]
     },
     "execution_count": 12,
     "metadata": {},
     "output_type": "execute_result"
    }
   ],
   "source": [
    "df1.corr()"
   ]
  },
  {
   "cell_type": "code",
   "execution_count": 13,
   "metadata": {},
   "outputs": [
    {
     "data": {
      "image/png": "[encoded data removed]",
      "text/plain": [
       "<Figure size 576x360 with 2 Axes>"
      ]
     },
     "metadata": {
      "needs_background": "light"
     },
     "output_type": "display_data"
    }
   ],
   "source": [
    "fig, ax = plt.subplots(figsize=(8,5))\n",
    "sns.heatmap(df1.corr(), annot=True, fmt='.2%')\n",
    "plt.show()"
   ]
  },
  {
   "cell_type": "markdown",
   "metadata": {},
   "source": [
    "Dari Correlation Heat Map di atas, dapat terlihat bahwa terdapat hubungan yang positif antar variabel. Hal ini mengindikasikan bahwa hubungan antara dependent variabel dan independent variabel berbanding lurus. Hubungan antara independent variabel dan dependent variabel yang paling kuat adalah X2 dan Y dimana angka korelasinya sebesar 45.67% (mendekati 50%)."
   ]
  },
  {
   "cell_type": "markdown",
   "metadata": {
    "id": "hDxhl-kHqhcA"
   },
   "source": [
    "### <font color=magenta>Multicollinearity Test for Independent Variables with VIF"
   ]
  },
  {
   "cell_type": "code",
   "execution_count": 14,
   "metadata": {
    "id": "WGOMnMm5qs1A"
   },
   "outputs": [],
   "source": [
    "def calc_vif(x):\n",
    "    vif = pd.DataFrame()\n",
    "    vif['Variables'] = x.columns\n",
    "    vif['VIF'] = [variance_inflation_factor(x.values, i) for i in range(x.shape[1])]\n",
    "    \n",
    "    return vif"
   ]
  },
  {
   "cell_type": "code",
   "execution_count": 15,
   "metadata": {},
   "outputs": [
    {
     "data": {
      "text/html": [
       "<div>\n",
       "<style scoped>\n",
       "    .dataframe tbody tr th:only-of-type {\n",
       "        vertical-align: middle;\n",
       "    }\n",
       "\n",
       "    .dataframe tbody tr th {\n",
       "        vertical-align: top;\n",
       "    }\n",
       "\n",
       "    .dataframe thead th {\n",
       "        text-align: right;\n",
       "    }\n",
       "</style>\n",
       "<table border=\"1\" class=\"dataframe\">\n",
       "  <thead>\n",
       "    <tr style=\"text-align: right;\">\n",
       "      <th></th>\n",
       "      <th>Variables</th>\n",
       "      <th>VIF</th>\n",
       "    </tr>\n",
       "  </thead>\n",
       "  <tbody>\n",
       "    <tr>\n",
       "      <th>0</th>\n",
       "      <td>X1</td>\n",
       "      <td>1.894156</td>\n",
       "    </tr>\n",
       "    <tr>\n",
       "      <th>1</th>\n",
       "      <td>X2</td>\n",
       "      <td>2.200850</td>\n",
       "    </tr>\n",
       "    <tr>\n",
       "      <th>2</th>\n",
       "      <td>X3</td>\n",
       "      <td>2.136649</td>\n",
       "    </tr>\n",
       "  </tbody>\n",
       "</table>\n",
       "</div>"
      ],
      "text/plain": [
       "  Variables       VIF\n",
       "0        X1  1.894156\n",
       "1        X2  2.200850\n",
       "2        X3  2.136649"
      ]
     },
     "execution_count": 15,
     "metadata": {},
     "output_type": "execute_result"
    }
   ],
   "source": [
    "iv = df1.drop(['Y'],axis=1)\n",
    "calc_vif(iv)"
   ]
  },
  {
   "cell_type": "markdown",
   "metadata": {},
   "source": [
    "Multikolinearitas terjadi ketika dua atau lebih variabel independen sangat berkorelasi satu sama lain dalam sebuah model regresi. Artinya suatu variabel bebas dapat diprediksi dari variabel bebas lainnya dalam suatu model regresi. Dalam hal ini, apabila nilai VIF > 5 menandakan bahwa terjadi multikolinearitas antara independent variabel, sehingga independent variable yang memiliki nilai VIF > 5 harus dibuang. Akan tetapi pada data di atas, dapat dilihat bahwa nilai VIF dari X1, X2, dan X3 tidak lebih dari 5, sehingga menandakan bahwa tidak terjadi multikolinearitas"
   ]
  },
  {
   "cell_type": "markdown",
   "metadata": {
    "id": "_Au52aSrqtQW"
   },
   "source": [
    "## <font color=#FF7913> Multiple Linear Regression"
   ]
  },
  {
   "cell_type": "markdown",
   "metadata": {},
   "source": [
    "### <font color=#6C88C4> Create and Fit Model"
   ]
  },
  {
   "cell_type": "code",
   "execution_count": 16,
   "metadata": {
    "id": "a0dzsEvUq5bw"
   },
   "outputs": [],
   "source": [
    "LR = LinearRegression()\n",
    "X = df1[['X1','X2','X3']]\n",
    "y = df1[['Y']]\n",
    "model = LR.fit(X, y)  #create model dari LR dari X dan y (berdasarkan data yang dimiliki)"
   ]
  },
  {
   "cell_type": "markdown",
   "metadata": {},
   "source": [
    "#### <font color=#6C88C4> Estimate B0, B1, B2, B3"
   ]
  },
  {
   "cell_type": "code",
   "execution_count": 17,
   "metadata": {},
   "outputs": [
    {
     "name": "stdout",
     "output_type": "stream",
     "text": [
      "intercept: 549148.0612696146\n"
     ]
    }
   ],
   "source": [
    "print('intercept:', model.intercept_[0])"
   ]
  },
  {
   "cell_type": "code",
   "execution_count": 18,
   "metadata": {},
   "outputs": [
    {
     "name": "stdout",
     "output_type": "stream",
     "text": [
      "slope: 36467.01857599965 , 140727.72022087636 , 13732.558911262446\n"
     ]
    }
   ],
   "source": [
    "print('slope:', model.coef_[0][0],',',model.coef_[0][1],',',model.coef_[0][2])"
   ]
  },
  {
   "cell_type": "markdown",
   "metadata": {},
   "source": [
    "*Linear Regression Equation:*\n",
    "\n",
    "𝑦̂ = B0 + B1X1 + B2X2 + B3X3\n",
    "\n",
    "**𝑦̂ = 549148.0612696146 + 36467.01857599965X1 + 140727.72022087636X2 + 13732.558911262446X3**"
   ]
  },
  {
   "cell_type": "markdown",
   "metadata": {},
   "source": [
    "#### <font color=#6C88C4>Coefficient of Determination"
   ]
  },
  {
   "cell_type": "code",
   "execution_count": 19,
   "metadata": {},
   "outputs": [
    {
     "data": {
      "text/plain": [
       "0.21270351392530795"
      ]
     },
     "execution_count": 19,
     "metadata": {},
     "output_type": "execute_result"
    }
   ],
   "source": [
    "Rsquared = model.score(X,y)\n",
    "Rsquared"
   ]
  },
  {
   "cell_type": "markdown",
   "metadata": {},
   "source": [
    "Berdasarkan hasil di atas, dapat dikatakan bahwa 21.27% pengeluaran mahasiswa di Indonesia per bulan dapat direpresentasikan oleh frekuensi belanja online, frekuensi bepergian ke luar rumah, dan jumlah subscription aplikasi dalam 1 bulan. Nilai dari coefficient of determination di atas dapat dikatakan rendah. Hal ini disebabkan karena rata-rata pengeluaran mahasiswa di Indonesia dalam 1 bulan dipengaruhi oleh banyak hal tidak hanya dari frekuensi belanja online, frekuensi bepergian, dan jumlah subscription aplikasi. Dengan kata lain, rata-rata pengeluaran mahasiswa di Indonesia dalam 1 bulan tidak dapat dikontrol oleh satu hingga tiga variable saja."
   ]
  },
  {
   "cell_type": "markdown",
   "metadata": {},
   "source": [
    "### <font color=#6C88C4> Predict Response"
   ]
  },
  {
   "cell_type": "code",
   "execution_count": 20,
   "metadata": {},
   "outputs": [
    {
     "data": {
      "text/html": [
       "<div>\n",
       "<style scoped>\n",
       "    .dataframe tbody tr th:only-of-type {\n",
       "        vertical-align: middle;\n",
       "    }\n",
       "\n",
       "    .dataframe tbody tr th {\n",
       "        vertical-align: top;\n",
       "    }\n",
       "\n",
       "    .dataframe thead th {\n",
       "        text-align: right;\n",
       "    }\n",
       "</style>\n",
       "<table border=\"1\" class=\"dataframe\">\n",
       "  <thead>\n",
       "    <tr style=\"text-align: right;\">\n",
       "      <th></th>\n",
       "      <th>Y</th>\n",
       "      <th>X1</th>\n",
       "      <th>X2</th>\n",
       "      <th>X3</th>\n",
       "      <th>Estimated Expenditure</th>\n",
       "    </tr>\n",
       "  </thead>\n",
       "  <tbody>\n",
       "    <tr>\n",
       "      <th>0</th>\n",
       "      <td>2000000.0</td>\n",
       "      <td>2.0</td>\n",
       "      <td>8.0</td>\n",
       "      <td>3.0</td>\n",
       "      <td>1.789102e+06</td>\n",
       "    </tr>\n",
       "    <tr>\n",
       "      <th>1</th>\n",
       "      <td>630000.0</td>\n",
       "      <td>1.0</td>\n",
       "      <td>1.0</td>\n",
       "      <td>5.0</td>\n",
       "      <td>7.950056e+05</td>\n",
       "    </tr>\n",
       "    <tr>\n",
       "      <th>2</th>\n",
       "      <td>300000.0</td>\n",
       "      <td>2.0</td>\n",
       "      <td>3.0</td>\n",
       "      <td>2.0</td>\n",
       "      <td>1.071730e+06</td>\n",
       "    </tr>\n",
       "    <tr>\n",
       "      <th>3</th>\n",
       "      <td>500000.0</td>\n",
       "      <td>10.0</td>\n",
       "      <td>8.0</td>\n",
       "      <td>1.0</td>\n",
       "      <td>2.053373e+06</td>\n",
       "    </tr>\n",
       "    <tr>\n",
       "      <th>4</th>\n",
       "      <td>1000000.0</td>\n",
       "      <td>1.0</td>\n",
       "      <td>7.0</td>\n",
       "      <td>2.0</td>\n",
       "      <td>1.598174e+06</td>\n",
       "    </tr>\n",
       "    <tr>\n",
       "      <th>...</th>\n",
       "      <td>...</td>\n",
       "      <td>...</td>\n",
       "      <td>...</td>\n",
       "      <td>...</td>\n",
       "      <td>...</td>\n",
       "    </tr>\n",
       "    <tr>\n",
       "      <th>56</th>\n",
       "      <td>2000000.0</td>\n",
       "      <td>2.0</td>\n",
       "      <td>7.0</td>\n",
       "      <td>0.0</td>\n",
       "      <td>1.607176e+06</td>\n",
       "    </tr>\n",
       "    <tr>\n",
       "      <th>57</th>\n",
       "      <td>1000000.0</td>\n",
       "      <td>5.0</td>\n",
       "      <td>7.0</td>\n",
       "      <td>1.0</td>\n",
       "      <td>1.730310e+06</td>\n",
       "    </tr>\n",
       "    <tr>\n",
       "      <th>58</th>\n",
       "      <td>500000.0</td>\n",
       "      <td>1.0</td>\n",
       "      <td>2.0</td>\n",
       "      <td>1.0</td>\n",
       "      <td>8.808031e+05</td>\n",
       "    </tr>\n",
       "    <tr>\n",
       "      <th>59</th>\n",
       "      <td>4500000.0</td>\n",
       "      <td>6.0</td>\n",
       "      <td>15.0</td>\n",
       "      <td>7.0</td>\n",
       "      <td>2.974994e+06</td>\n",
       "    </tr>\n",
       "    <tr>\n",
       "      <th>60</th>\n",
       "      <td>3600000.0</td>\n",
       "      <td>6.0</td>\n",
       "      <td>14.0</td>\n",
       "      <td>7.0</td>\n",
       "      <td>2.834266e+06</td>\n",
       "    </tr>\n",
       "  </tbody>\n",
       "</table>\n",
       "<p>61 rows × 5 columns</p>\n",
       "</div>"
      ],
      "text/plain": [
       "            Y    X1    X2   X3  Estimated Expenditure\n",
       "0   2000000.0   2.0   8.0  3.0           1.789102e+06\n",
       "1    630000.0   1.0   1.0  5.0           7.950056e+05\n",
       "2    300000.0   2.0   3.0  2.0           1.071730e+06\n",
       "3    500000.0  10.0   8.0  1.0           2.053373e+06\n",
       "4   1000000.0   1.0   7.0  2.0           1.598174e+06\n",
       "..        ...   ...   ...  ...                    ...\n",
       "56  2000000.0   2.0   7.0  0.0           1.607176e+06\n",
       "57  1000000.0   5.0   7.0  1.0           1.730310e+06\n",
       "58   500000.0   1.0   2.0  1.0           8.808031e+05\n",
       "59  4500000.0   6.0  15.0  7.0           2.974994e+06\n",
       "60  3600000.0   6.0  14.0  7.0           2.834266e+06\n",
       "\n",
       "[61 rows x 5 columns]"
      ]
     },
     "execution_count": 20,
     "metadata": {},
     "output_type": "execute_result"
    }
   ],
   "source": [
    "H = model.predict(X)\n",
    "df1['Estimated Expenditure'] = H   #[] - Di data frame, memilih kolom atau menambah\n",
    "df1"
   ]
  },
  {
   "cell_type": "markdown",
   "metadata": {},
   "source": [
    "### <font color=#6C88C4> Calculate Residual"
   ]
  },
  {
   "cell_type": "code",
   "execution_count": 21,
   "metadata": {},
   "outputs": [
    {
     "data": {
      "text/html": [
       "<div>\n",
       "<style scoped>\n",
       "    .dataframe tbody tr th:only-of-type {\n",
       "        vertical-align: middle;\n",
       "    }\n",
       "\n",
       "    .dataframe tbody tr th {\n",
       "        vertical-align: top;\n",
       "    }\n",
       "\n",
       "    .dataframe thead th {\n",
       "        text-align: right;\n",
       "    }\n",
       "</style>\n",
       "<table border=\"1\" class=\"dataframe\">\n",
       "  <thead>\n",
       "    <tr style=\"text-align: right;\">\n",
       "      <th></th>\n",
       "      <th>Y</th>\n",
       "      <th>X1</th>\n",
       "      <th>X2</th>\n",
       "      <th>X3</th>\n",
       "      <th>Estimated Expenditure</th>\n",
       "      <th>Residual</th>\n",
       "    </tr>\n",
       "  </thead>\n",
       "  <tbody>\n",
       "    <tr>\n",
       "      <th>0</th>\n",
       "      <td>2000000.0</td>\n",
       "      <td>2.0</td>\n",
       "      <td>8.0</td>\n",
       "      <td>3.0</td>\n",
       "      <td>1.789102e+06</td>\n",
       "      <td>2.108985e+05</td>\n",
       "    </tr>\n",
       "    <tr>\n",
       "      <th>1</th>\n",
       "      <td>630000.0</td>\n",
       "      <td>1.0</td>\n",
       "      <td>1.0</td>\n",
       "      <td>5.0</td>\n",
       "      <td>7.950056e+05</td>\n",
       "      <td>-1.650056e+05</td>\n",
       "    </tr>\n",
       "    <tr>\n",
       "      <th>2</th>\n",
       "      <td>300000.0</td>\n",
       "      <td>2.0</td>\n",
       "      <td>3.0</td>\n",
       "      <td>2.0</td>\n",
       "      <td>1.071730e+06</td>\n",
       "      <td>-7.717304e+05</td>\n",
       "    </tr>\n",
       "    <tr>\n",
       "      <th>3</th>\n",
       "      <td>500000.0</td>\n",
       "      <td>10.0</td>\n",
       "      <td>8.0</td>\n",
       "      <td>1.0</td>\n",
       "      <td>2.053373e+06</td>\n",
       "      <td>-1.553373e+06</td>\n",
       "    </tr>\n",
       "    <tr>\n",
       "      <th>4</th>\n",
       "      <td>1000000.0</td>\n",
       "      <td>1.0</td>\n",
       "      <td>7.0</td>\n",
       "      <td>2.0</td>\n",
       "      <td>1.598174e+06</td>\n",
       "      <td>-5.981742e+05</td>\n",
       "    </tr>\n",
       "    <tr>\n",
       "      <th>...</th>\n",
       "      <td>...</td>\n",
       "      <td>...</td>\n",
       "      <td>...</td>\n",
       "      <td>...</td>\n",
       "      <td>...</td>\n",
       "      <td>...</td>\n",
       "    </tr>\n",
       "    <tr>\n",
       "      <th>56</th>\n",
       "      <td>2000000.0</td>\n",
       "      <td>2.0</td>\n",
       "      <td>7.0</td>\n",
       "      <td>0.0</td>\n",
       "      <td>1.607176e+06</td>\n",
       "      <td>3.928239e+05</td>\n",
       "    </tr>\n",
       "    <tr>\n",
       "      <th>57</th>\n",
       "      <td>1000000.0</td>\n",
       "      <td>5.0</td>\n",
       "      <td>7.0</td>\n",
       "      <td>1.0</td>\n",
       "      <td>1.730310e+06</td>\n",
       "      <td>-7.303098e+05</td>\n",
       "    </tr>\n",
       "    <tr>\n",
       "      <th>58</th>\n",
       "      <td>500000.0</td>\n",
       "      <td>1.0</td>\n",
       "      <td>2.0</td>\n",
       "      <td>1.0</td>\n",
       "      <td>8.808031e+05</td>\n",
       "      <td>-3.808031e+05</td>\n",
       "    </tr>\n",
       "    <tr>\n",
       "      <th>59</th>\n",
       "      <td>4500000.0</td>\n",
       "      <td>6.0</td>\n",
       "      <td>15.0</td>\n",
       "      <td>7.0</td>\n",
       "      <td>2.974994e+06</td>\n",
       "      <td>1.525006e+06</td>\n",
       "    </tr>\n",
       "    <tr>\n",
       "      <th>60</th>\n",
       "      <td>3600000.0</td>\n",
       "      <td>6.0</td>\n",
       "      <td>14.0</td>\n",
       "      <td>7.0</td>\n",
       "      <td>2.834266e+06</td>\n",
       "      <td>7.657338e+05</td>\n",
       "    </tr>\n",
       "  </tbody>\n",
       "</table>\n",
       "<p>61 rows × 6 columns</p>\n",
       "</div>"
      ],
      "text/plain": [
       "            Y    X1    X2   X3  Estimated Expenditure      Residual\n",
       "0   2000000.0   2.0   8.0  3.0           1.789102e+06  2.108985e+05\n",
       "1    630000.0   1.0   1.0  5.0           7.950056e+05 -1.650056e+05\n",
       "2    300000.0   2.0   3.0  2.0           1.071730e+06 -7.717304e+05\n",
       "3    500000.0  10.0   8.0  1.0           2.053373e+06 -1.553373e+06\n",
       "4   1000000.0   1.0   7.0  2.0           1.598174e+06 -5.981742e+05\n",
       "..        ...   ...   ...  ...                    ...           ...\n",
       "56  2000000.0   2.0   7.0  0.0           1.607176e+06  3.928239e+05\n",
       "57  1000000.0   5.0   7.0  1.0           1.730310e+06 -7.303098e+05\n",
       "58   500000.0   1.0   2.0  1.0           8.808031e+05 -3.808031e+05\n",
       "59  4500000.0   6.0  15.0  7.0           2.974994e+06  1.525006e+06\n",
       "60  3600000.0   6.0  14.0  7.0           2.834266e+06  7.657338e+05\n",
       "\n",
       "[61 rows x 6 columns]"
      ]
     },
     "execution_count": 21,
     "metadata": {},
     "output_type": "execute_result"
    }
   ],
   "source": [
    "df1['Residual'] = df1['Y'] - df1['Estimated Expenditure'] #residual = actual - estimated ---> u = y - yhead\n",
    "df1"
   ]
  },
  {
   "cell_type": "code",
   "execution_count": 22,
   "metadata": {},
   "outputs": [
    {
     "data": {
      "text/plain": [
       "-1.3504177331924438e-08"
      ]
     },
     "execution_count": 22,
     "metadata": {},
     "output_type": "execute_result"
    }
   ],
   "source": [
    "df1['Residual'].sum()"
   ]
  },
  {
   "cell_type": "markdown",
   "metadata": {},
   "source": [
    "Seharusnya jumlah residual yang baik mendekati 0. Perhitungan di atas menunjukkan residual yang baik karena mendekati 0"
   ]
  },
  {
   "cell_type": "markdown",
   "metadata": {},
   "source": [
    "### <font color=#6C88C4> Residual Squared"
   ]
  },
  {
   "cell_type": "code",
   "execution_count": 23,
   "metadata": {},
   "outputs": [
    {
     "data": {
      "text/html": [
       "<div>\n",
       "<style scoped>\n",
       "    .dataframe tbody tr th:only-of-type {\n",
       "        vertical-align: middle;\n",
       "    }\n",
       "\n",
       "    .dataframe tbody tr th {\n",
       "        vertical-align: top;\n",
       "    }\n",
       "\n",
       "    .dataframe thead th {\n",
       "        text-align: right;\n",
       "    }\n",
       "</style>\n",
       "<table border=\"1\" class=\"dataframe\">\n",
       "  <thead>\n",
       "    <tr style=\"text-align: right;\">\n",
       "      <th></th>\n",
       "      <th>Y</th>\n",
       "      <th>X1</th>\n",
       "      <th>X2</th>\n",
       "      <th>X3</th>\n",
       "      <th>Estimated Expenditure</th>\n",
       "      <th>Residual</th>\n",
       "      <th>Residual Squared</th>\n",
       "    </tr>\n",
       "  </thead>\n",
       "  <tbody>\n",
       "    <tr>\n",
       "      <th>0</th>\n",
       "      <td>2000000.0</td>\n",
       "      <td>2.0</td>\n",
       "      <td>8.0</td>\n",
       "      <td>3.0</td>\n",
       "      <td>1.789102e+06</td>\n",
       "      <td>2.108985e+05</td>\n",
       "      <td>4.447816e+10</td>\n",
       "    </tr>\n",
       "    <tr>\n",
       "      <th>1</th>\n",
       "      <td>630000.0</td>\n",
       "      <td>1.0</td>\n",
       "      <td>1.0</td>\n",
       "      <td>5.0</td>\n",
       "      <td>7.950056e+05</td>\n",
       "      <td>-1.650056e+05</td>\n",
       "      <td>2.722685e+10</td>\n",
       "    </tr>\n",
       "    <tr>\n",
       "      <th>2</th>\n",
       "      <td>300000.0</td>\n",
       "      <td>2.0</td>\n",
       "      <td>3.0</td>\n",
       "      <td>2.0</td>\n",
       "      <td>1.071730e+06</td>\n",
       "      <td>-7.717304e+05</td>\n",
       "      <td>5.955678e+11</td>\n",
       "    </tr>\n",
       "    <tr>\n",
       "      <th>3</th>\n",
       "      <td>500000.0</td>\n",
       "      <td>10.0</td>\n",
       "      <td>8.0</td>\n",
       "      <td>1.0</td>\n",
       "      <td>2.053373e+06</td>\n",
       "      <td>-1.553373e+06</td>\n",
       "      <td>2.412966e+12</td>\n",
       "    </tr>\n",
       "    <tr>\n",
       "      <th>4</th>\n",
       "      <td>1000000.0</td>\n",
       "      <td>1.0</td>\n",
       "      <td>7.0</td>\n",
       "      <td>2.0</td>\n",
       "      <td>1.598174e+06</td>\n",
       "      <td>-5.981742e+05</td>\n",
       "      <td>3.578124e+11</td>\n",
       "    </tr>\n",
       "    <tr>\n",
       "      <th>...</th>\n",
       "      <td>...</td>\n",
       "      <td>...</td>\n",
       "      <td>...</td>\n",
       "      <td>...</td>\n",
       "      <td>...</td>\n",
       "      <td>...</td>\n",
       "      <td>...</td>\n",
       "    </tr>\n",
       "    <tr>\n",
       "      <th>56</th>\n",
       "      <td>2000000.0</td>\n",
       "      <td>2.0</td>\n",
       "      <td>7.0</td>\n",
       "      <td>0.0</td>\n",
       "      <td>1.607176e+06</td>\n",
       "      <td>3.928239e+05</td>\n",
       "      <td>1.543106e+11</td>\n",
       "    </tr>\n",
       "    <tr>\n",
       "      <th>57</th>\n",
       "      <td>1000000.0</td>\n",
       "      <td>5.0</td>\n",
       "      <td>7.0</td>\n",
       "      <td>1.0</td>\n",
       "      <td>1.730310e+06</td>\n",
       "      <td>-7.303098e+05</td>\n",
       "      <td>5.333523e+11</td>\n",
       "    </tr>\n",
       "    <tr>\n",
       "      <th>58</th>\n",
       "      <td>500000.0</td>\n",
       "      <td>1.0</td>\n",
       "      <td>2.0</td>\n",
       "      <td>1.0</td>\n",
       "      <td>8.808031e+05</td>\n",
       "      <td>-3.808031e+05</td>\n",
       "      <td>1.450110e+11</td>\n",
       "    </tr>\n",
       "    <tr>\n",
       "      <th>59</th>\n",
       "      <td>4500000.0</td>\n",
       "      <td>6.0</td>\n",
       "      <td>15.0</td>\n",
       "      <td>7.0</td>\n",
       "      <td>2.974994e+06</td>\n",
       "      <td>1.525006e+06</td>\n",
       "      <td>2.325644e+12</td>\n",
       "    </tr>\n",
       "    <tr>\n",
       "      <th>60</th>\n",
       "      <td>3600000.0</td>\n",
       "      <td>6.0</td>\n",
       "      <td>14.0</td>\n",
       "      <td>7.0</td>\n",
       "      <td>2.834266e+06</td>\n",
       "      <td>7.657338e+05</td>\n",
       "      <td>5.863483e+11</td>\n",
       "    </tr>\n",
       "  </tbody>\n",
       "</table>\n",
       "<p>61 rows × 7 columns</p>\n",
       "</div>"
      ],
      "text/plain": [
       "            Y    X1    X2   X3  Estimated Expenditure      Residual  \\\n",
       "0   2000000.0   2.0   8.0  3.0           1.789102e+06  2.108985e+05   \n",
       "1    630000.0   1.0   1.0  5.0           7.950056e+05 -1.650056e+05   \n",
       "2    300000.0   2.0   3.0  2.0           1.071730e+06 -7.717304e+05   \n",
       "3    500000.0  10.0   8.0  1.0           2.053373e+06 -1.553373e+06   \n",
       "4   1000000.0   1.0   7.0  2.0           1.598174e+06 -5.981742e+05   \n",
       "..        ...   ...   ...  ...                    ...           ...   \n",
       "56  2000000.0   2.0   7.0  0.0           1.607176e+06  3.928239e+05   \n",
       "57  1000000.0   5.0   7.0  1.0           1.730310e+06 -7.303098e+05   \n",
       "58   500000.0   1.0   2.0  1.0           8.808031e+05 -3.808031e+05   \n",
       "59  4500000.0   6.0  15.0  7.0           2.974994e+06  1.525006e+06   \n",
       "60  3600000.0   6.0  14.0  7.0           2.834266e+06  7.657338e+05   \n",
       "\n",
       "    Residual Squared  \n",
       "0       4.447816e+10  \n",
       "1       2.722685e+10  \n",
       "2       5.955678e+11  \n",
       "3       2.412966e+12  \n",
       "4       3.578124e+11  \n",
       "..               ...  \n",
       "56      1.543106e+11  \n",
       "57      5.333523e+11  \n",
       "58      1.450110e+11  \n",
       "59      2.325644e+12  \n",
       "60      5.863483e+11  \n",
       "\n",
       "[61 rows x 7 columns]"
      ]
     },
     "execution_count": 23,
     "metadata": {},
     "output_type": "execute_result"
    }
   ],
   "source": [
    "df1['Residual Squared']= df1['Residual']**2\n",
    "df1 "
   ]
  },
  {
   "cell_type": "markdown",
   "metadata": {},
   "source": [
    "### <font color=#6C88C4> Linear Regression with Statsmodels"
   ]
  },
  {
   "cell_type": "code",
   "execution_count": 24,
   "metadata": {},
   "outputs": [
    {
     "name": "stdout",
     "output_type": "stream",
     "text": [
      "                            OLS Regression Results                            \n",
      "==============================================================================\n",
      "Dep. Variable:                      y   R-squared:                       0.213\n",
      "Model:                            OLS   Adj. R-squared:                  0.171\n",
      "Method:                 Least Squares   F-statistic:                     5.133\n",
      "Date:                Fri, 01 Apr 2022   Prob (F-statistic):            0.00327\n",
      "Time:                        22:41:05   Log-Likelihood:                -955.32\n",
      "No. Observations:                  61   AIC:                             1919.\n",
      "Df Residuals:                      57   BIC:                             1927.\n",
      "Df Model:                           3                                         \n",
      "Covariance Type:            nonrobust                                         \n",
      "==============================================================================\n",
      "                 coef    std err          t      P>|t|      [0.025      0.975]\n",
      "------------------------------------------------------------------------------\n",
      "const       5.491e+05   3.92e+05      1.403      0.166   -2.35e+05    1.33e+06\n",
      "x1          3.647e+04   7.88e+04      0.463      0.645   -1.21e+05    1.94e+05\n",
      "x2          1.407e+05   4.06e+04      3.465      0.001    5.94e+04    2.22e+05\n",
      "x3          1.373e+04   8.81e+04      0.156      0.877   -1.63e+05     1.9e+05\n",
      "==============================================================================\n",
      "Omnibus:                       41.520   Durbin-Watson:                   2.146\n",
      "Prob(Omnibus):                  0.000   Jarque-Bera (JB):              144.371\n",
      "Skew:                           1.946   Prob(JB):                     4.47e-32\n",
      "Kurtosis:                       9.454   Cond. No.                         18.7\n",
      "==============================================================================\n",
      "\n",
      "Notes:\n",
      "[1] Standard Errors assume that the covariance matrix of the errors is correctly specified.\n"
     ]
    }
   ],
   "source": [
    "X = sm.add_constant(df1[['X1','X2','X3']].to_numpy())\n",
    "y = df1['Y'].to_numpy()\n",
    "LR = sm.OLS(y, X)\n",
    "model = LR.fit()\n",
    "print(model.summary())"
   ]
  },
  {
   "cell_type": "markdown",
   "metadata": {},
   "source": [
    "Dari summary pemodelan di atas dapat ditarik kesimpulan sebagai berikut:"
   ]
  },
  {
   "cell_type": "markdown",
   "metadata": {},
   "source": [
    "- F Test dengan alpha 5%, H0: B1 = B2 = B3 = 0, H1 :One or more slope terms is non zero. Dari summary di atas didapatkan nilai Prob (F-statistic) sebesar 0.00327 yang menandakan bahwa Prob(Fstat) < p-value, sehingga H0 ditolak dan dapat disimpulkan bahwa one or more slope terms is non zero\n",
    "- Dari X1, X2, dan X3, variabel yang paling signifikan terhadap nilai Y (rata-rata pengeluaran mahasiswa di Indonesia dalam 1 bulan) adalah variabel independen yang memiliki p-value < 0.05 dimana variabel tersebut adalah X2 atau frekuensi bepergian ke luar rumah (0.001 < 0.05)\n",
    "- Test statistik durbin watson digunakan untuk mendeteksi autocorrelation pada residual dalam analisis regresi. Dari summary di atas dapat dilihat bahwa nilai dari Durbin Watson sebesar 2.146 menandakan bahwa tidak ada autokorelasi pada residual dengan toleransi interval nilai DW 1,5 - 2,5 (rule of thumb).\n",
    "- Jarque-Bera test dengan alpha 5%, H0: distribusi dari residual adalah distribusi normal, H1: distribusi dari residual bukan distribusi normal. Dari hasil di atas dapat dilihat bahwa Prob(JB) < 0.05, sehingga H0 ditolak dan distribusi residual adalah distribusi normal"
   ]
  },
  {
   "cell_type": "markdown",
   "metadata": {},
   "source": [
    "## <font color=chocolate> Uji Asumsi Klasik"
   ]
  },
  {
   "cell_type": "markdown",
   "metadata": {},
   "source": [
    "Kita akan memvalidasi model kita dengan melakukan analisis residual, berikut merupakan asumsi yang akan kami lakukan untuk mengecek validitas model:\n",
    "- Normality test (Anderson-Darling Test)\n",
    "- Linearity Test\n",
    "- Heteroskedacity Test"
   ]
  },
  {
   "cell_type": "markdown",
   "metadata": {
    "id": "7toGUSCoq62f"
   },
   "source": [
    "### <font color=#C05780>Normality test for Residuals use Anderson-Darling Test"
   ]
  },
  {
   "cell_type": "markdown",
   "metadata": {},
   "source": [
    "The Anderson-Darling Test will determine if a data set comes from a specified distribution, in our case, the normal distribution."
   ]
  },
  {
   "cell_type": "code",
   "execution_count": 25,
   "metadata": {
    "id": "OC4nsB0trCkp"
   },
   "outputs": [
    {
     "name": "stdout",
     "output_type": "stream",
     "text": [
      "p-value from the test Anderson-Darling test below 0.05 generally means non-normal: 1.2143581784638156e-05\n"
     ]
    },
    {
     "data": {
      "image/png": "[encoded data removed]",
      "text/plain": [
       "<Figure size 576x288 with 1 Axes>"
      ]
     },
     "metadata": {
      "needs_background": "light"
     },
     "output_type": "display_data"
    },
    {
     "name": "stdout",
     "output_type": "stream",
     "text": [
      "Residuals are not normally distributed\n"
     ]
    }
   ],
   "source": [
    "# Performing the test on the residuals\n",
    "p_value = normal_ad(df1['Residual'])[1]\n",
    "print('p-value from the test Anderson-Darling test below 0.05 generally means non-normal:', p_value)\n",
    "\n",
    "# Plotting the residuals distribution\n",
    "plt.subplots(figsize=(8, 4))\n",
    "plt.title('Distribution of Residuals', fontsize=18)\n",
    "sns.distplot(df1['Residual'])\n",
    "plt.show()\n",
    "\n",
    "# Reporting the normality of the residuals\n",
    "if p_value < 0.05:\n",
    "    print('Residuals are not normally distributed')\n",
    "else:\n",
    "    print('Residuals are normally distributed')"
   ]
  },
  {
   "cell_type": "markdown",
   "metadata": {
    "id": "1BKBpf53rDZQ"
   },
   "source": [
    "### <font color=#FF5851>Linearity test"
   ]
  },
  {
   "cell_type": "code",
   "execution_count": 26,
   "metadata": {},
   "outputs": [
    {
     "data": {
      "image/png": "[encoded data removed]",
      "text/plain": [
       "<Figure size 360x360 with 1 Axes>"
      ]
     },
     "metadata": {
      "needs_background": "light"
     },
     "output_type": "display_data"
    }
   ],
   "source": [
    "sns.lmplot(x='Y', y='Estimated Expenditure', data=df1, fit_reg=False, size=5)\n",
    "    \n",
    "# Plotting the diagonal line\n",
    "line_coords = np.arange(df1[['Y', 'Estimated Expenditure']].min().min()-10, \n",
    "                        df1[['Y','Estimated Expenditure']].max().max()+10)\n",
    "plt.plot(line_coords, line_coords,  # X and y points\n",
    "         color='darkorange', linestyle='--')\n",
    "\n",
    "plt.ylabel('Estimated College Student Expenditure', fontsize=14)\n",
    "plt.xlabel('Actual College Student Expenditure', fontsize=14)\n",
    "plt.title('Linearity Assumption', fontsize=16)\n",
    "plt.show()"
   ]
  },
  {
   "cell_type": "markdown",
   "metadata": {},
   "source": [
    "Plot di atas menunjukkan titik sisa yang tersebar tidak merata di sekitar garis diagonal, sehingga kita tidak dapat mengasumsikan bahwa ada hubungan linier antara variabel independen dan dependen."
   ]
  },
  {
   "cell_type": "markdown",
   "metadata": {
    "id": "5XDX-Sp8r4mW"
   },
   "source": [
    "### <font color=#00B0BA>Heteroscedasticity test"
   ]
  },
  {
   "cell_type": "markdown",
   "metadata": {},
   "source": [
    "Heteroscedasticity is a condition where the error variance is not constant on the independent variable. "
   ]
  },
  {
   "cell_type": "code",
   "execution_count": 27,
   "metadata": {},
   "outputs": [
    {
     "data": {
      "image/png": "[encoded data removed]",
      "text/plain": [
       "<Figure size 432x288 with 1 Axes>"
      ]
     },
     "metadata": {
      "needs_background": "light"
     },
     "output_type": "display_data"
    }
   ],
   "source": [
    "fitted = 549148.0612696146 + (36467.01857599965 * df1.X1) + (140727.72022087636 * df1.X2) + (13732.558911262446 * df1.X3) \n",
    "fig = plt.figure()\n",
    "axes = fig.add_axes([0, 0, 1.0, 1.0]) \n",
    "axes.axhline(color=\"black\", ls=\"--\") # This creates a horizon line (like abline in R)\n",
    "axes.set_xlabel('Fitted Value')\n",
    "axes.set_ylabel('Residuals')\n",
    "axes.set_title('Residuals Versus Fits')\n",
    "axes.scatter(fitted, df1[\"Y\"]  - fitted, marker = \"o\")\n",
    "plt.show()"
   ]
  },
  {
   "cell_type": "markdown",
   "metadata": {},
   "source": [
    "From the visualization above we can conclude that the residuals are not distributed with equal variance or in other words heteroscedasticity is present"
   ]
  },
  {
   "cell_type": "markdown",
   "metadata": {},
   "source": [
    "## <font color=#305F72>Conclusion"
   ]
  },
  {
   "cell_type": "markdown",
   "metadata": {},
   "source": [
    "Dari uji asumsi klasik yang telah dilakukan dapat dilihat bawa:\n",
    "- Distribusi dari residual tidak berdistribusi normal\n",
    "- Terdapat heteroscedasticity\n",
    "- Tidak terdapat hubungan linear antara dependen variabel dan independen variabel\n",
    "- Tidak terdapat hubungan multikolinear antarvariabel independen\n",
    "\n",
    "Berdasarkan hasil di atas dapat dikatakan bahwa pemodelan ini hanya memenuhi asumsi multikolinearitas. Oleh karena itu, pemodelan ini dianggap memiliki performa yang kurang baik untuk memprediksi rata-rata pengeluaran mahasiswa di Indonesia dalam 1 bulan dengan menggunakan tiga variabel independen (frekuensi belanja online, frekuensi bepergian ke luar rumah, dan jumlah subscription aplikasi). Artinya, terdapat faktor-faktor lain yang lebih memengaruhi rata-rata pengeluaran mahasiswa di Indonesia dalam 1 bulan secara signifikan"
   ]
  },
  {
   "cell_type": "markdown",
   "metadata": {
    "id": "g1btVckisEhn"
   },
   "source": [
    "## <font color=#8B7F6A> Simple Linear Regression"
   ]
  },
  {
   "cell_type": "markdown",
   "metadata": {},
   "source": [
    "##### <font color=#B30019>Provide Data"
   ]
  },
  {
   "cell_type": "code",
   "execution_count": 28,
   "metadata": {},
   "outputs": [
    {
     "data": {
      "text/html": [
       "<div>\n",
       "<style scoped>\n",
       "    .dataframe tbody tr th:only-of-type {\n",
       "        vertical-align: middle;\n",
       "    }\n",
       "\n",
       "    .dataframe tbody tr th {\n",
       "        vertical-align: top;\n",
       "    }\n",
       "\n",
       "    .dataframe thead th {\n",
       "        text-align: right;\n",
       "    }\n",
       "</style>\n",
       "<table border=\"1\" class=\"dataframe\">\n",
       "  <thead>\n",
       "    <tr style=\"text-align: right;\">\n",
       "      <th></th>\n",
       "      <th>X2</th>\n",
       "      <th>Y</th>\n",
       "    </tr>\n",
       "  </thead>\n",
       "  <tbody>\n",
       "    <tr>\n",
       "      <th>0</th>\n",
       "      <td>8.0</td>\n",
       "      <td>2000000.0</td>\n",
       "    </tr>\n",
       "    <tr>\n",
       "      <th>1</th>\n",
       "      <td>1.0</td>\n",
       "      <td>630000.0</td>\n",
       "    </tr>\n",
       "    <tr>\n",
       "      <th>2</th>\n",
       "      <td>3.0</td>\n",
       "      <td>300000.0</td>\n",
       "    </tr>\n",
       "    <tr>\n",
       "      <th>3</th>\n",
       "      <td>8.0</td>\n",
       "      <td>500000.0</td>\n",
       "    </tr>\n",
       "    <tr>\n",
       "      <th>4</th>\n",
       "      <td>7.0</td>\n",
       "      <td>1000000.0</td>\n",
       "    </tr>\n",
       "    <tr>\n",
       "      <th>...</th>\n",
       "      <td>...</td>\n",
       "      <td>...</td>\n",
       "    </tr>\n",
       "    <tr>\n",
       "      <th>56</th>\n",
       "      <td>7.0</td>\n",
       "      <td>2000000.0</td>\n",
       "    </tr>\n",
       "    <tr>\n",
       "      <th>57</th>\n",
       "      <td>7.0</td>\n",
       "      <td>1000000.0</td>\n",
       "    </tr>\n",
       "    <tr>\n",
       "      <th>58</th>\n",
       "      <td>2.0</td>\n",
       "      <td>500000.0</td>\n",
       "    </tr>\n",
       "    <tr>\n",
       "      <th>59</th>\n",
       "      <td>15.0</td>\n",
       "      <td>4500000.0</td>\n",
       "    </tr>\n",
       "    <tr>\n",
       "      <th>60</th>\n",
       "      <td>14.0</td>\n",
       "      <td>3600000.0</td>\n",
       "    </tr>\n",
       "  </tbody>\n",
       "</table>\n",
       "<p>61 rows × 2 columns</p>\n",
       "</div>"
      ],
      "text/plain": [
       "      X2          Y\n",
       "0    8.0  2000000.0\n",
       "1    1.0   630000.0\n",
       "2    3.0   300000.0\n",
       "3    8.0   500000.0\n",
       "4    7.0  1000000.0\n",
       "..   ...        ...\n",
       "56   7.0  2000000.0\n",
       "57   7.0  1000000.0\n",
       "58   2.0   500000.0\n",
       "59  15.0  4500000.0\n",
       "60  14.0  3600000.0\n",
       "\n",
       "[61 rows x 2 columns]"
      ]
     },
     "execution_count": 28,
     "metadata": {},
     "output_type": "execute_result"
    }
   ],
   "source": [
    "df4 = df1[['X2','Y']]\n",
    "df4"
   ]
  },
  {
   "cell_type": "markdown",
   "metadata": {},
   "source": [
    "**Keterangan:**\n",
    "\n",
    "- X2 : Frekuensi bepergian ke luar rumah dalam 1 bulan (dalam satuan kali)\n",
    "- Y  : Rata-rata Pengeluaran mahasiswa di Indonesia dalam 1 bulan (dalam satuan rupiah)"
   ]
  },
  {
   "cell_type": "markdown",
   "metadata": {},
   "source": [
    "##### <font color=#B30019> Correlation between variables"
   ]
  },
  {
   "cell_type": "code",
   "execution_count": 29,
   "metadata": {},
   "outputs": [
    {
     "data": {
      "image/png": "[encoded data removed]",
      "text/plain": [
       "<Figure size 360x216 with 2 Axes>"
      ]
     },
     "metadata": {
      "needs_background": "light"
     },
     "output_type": "display_data"
    }
   ],
   "source": [
    "fig, ax = plt.subplots(figsize=(5,3))\n",
    "sns.heatmap(df4.corr(), annot=True, fmt='.2%')\n",
    "plt.show()"
   ]
  },
  {
   "cell_type": "markdown",
   "metadata": {},
   "source": [
    "Kita memilih untuk menganalisis hubungan antara variabel Y (dependent variable) dan X2 (independent variable) karena jika dibandingkan dari hubungan Y dengan independent variables lainnya (X1 dan X3), korelasi antara Y dan X2 merupakan yang paling kuat."
   ]
  },
  {
   "cell_type": "markdown",
   "metadata": {},
   "source": [
    "**Keterangan:**\n",
    "\n",
    "- X2 : Frekuensi bepergian ke luar rumah (dalam satuan kali)\n",
    "- Y  : Rata-rata Pengeluaran mahasiswa di Indonesia dalam 1 bulan (dalam satuan rupiah)\n",
    "- X1 : Frekeunsi belanja online dalam 1 bulan (dalam satauan kali)\n",
    "- X3 : Jumlah Subscription Aplikasi dalam 1 bulan (dalam satuan banyak)"
   ]
  },
  {
   "cell_type": "markdown",
   "metadata": {},
   "source": [
    "##### <font color=#B30019>Data Visualization"
   ]
  },
  {
   "cell_type": "markdown",
   "metadata": {},
   "source": [
    "*Scatterplot of College Student Expenditures vs Going Out Frequencies*"
   ]
  },
  {
   "cell_type": "code",
   "execution_count": 30,
   "metadata": {
    "id": "05pf9P7NsGFq"
   },
   "outputs": [
    {
     "data": {
      "image/png": "[encoded data removed]",
      "text/plain": [
       "<Figure size 720x576 with 1 Axes>"
      ]
     },
     "metadata": {
      "needs_background": "light"
     },
     "output_type": "display_data"
    }
   ],
   "source": [
    "fig, ax = plt.subplots(figsize=(10, 8))  #menunjukkan ukuran dari plot\n",
    "df4.plot(x=\"X2\",y=\"Y\",ax=ax,kind=\"scatter\")\n",
    "plt.xlabel(\"Going Out Frequencies\")\n",
    "plt.ylabel(\"College Student Expenditures\")\n",
    "plt.show()"
   ]
  },
  {
   "cell_type": "markdown",
   "metadata": {},
   "source": [
    "##### <font color=#B30019> Create and Fit Model"
   ]
  },
  {
   "cell_type": "code",
   "execution_count": 31,
   "metadata": {},
   "outputs": [],
   "source": [
    "LR1 = LinearRegression()\n",
    "x = df4[['X2']]\n",
    "Y = df4[['Y']]\n",
    "model1 = LR1.fit(x, Y)  #create model1 dari LR1 dari x dan Y (berdasarkan data yang dimiliki)"
   ]
  },
  {
   "cell_type": "code",
   "execution_count": 32,
   "metadata": {},
   "outputs": [
    {
     "name": "stdout",
     "output_type": "stream",
     "text": [
      "Coefficient of determination (R^2): 0.20859424814011474\n",
      "intercept: 660671.3114754097\n",
      "slope: 145150.00000000003\n"
     ]
    }
   ],
   "source": [
    "r_sq = model1.score(x, Y)\n",
    "print('Coefficient of determination (R^2):', r_sq)  #mengeluarkan hasil perhitungannya dengan template\n",
    "print('intercept:', model1.intercept_[0])\n",
    "print('slope:', model1.coef_[0][0])"
   ]
  },
  {
   "cell_type": "code",
   "execution_count": 33,
   "metadata": {},
   "outputs": [
    {
     "name": "stdout",
     "output_type": "stream",
     "text": [
      "X max: 26.0\n",
      "X min: 0.0\n"
     ]
    }
   ],
   "source": [
    "print('X max:', x['X2'].max())\n",
    "print('X min:', x['X2'].min())"
   ]
  },
  {
   "cell_type": "markdown",
   "metadata": {},
   "source": [
    "𝑦̂ = B0 + B1X2\n",
    "\n",
    "**𝑦̂ = 660671.3114754097 + 145150X2**"
   ]
  },
  {
   "cell_type": "markdown",
   "metadata": {},
   "source": [
    "1. Interpretation of slope: **One unit increment in Going Out Frequencies will increase the College Student Expenditures by Rp145.150**\n",
    "2. Interpretation of intercept: **The starting College Student Expenditures when Going out Frequencies is 0 is 660671.31**\n",
    "3. Interpretation of coefficient of determination: **The result of coefficient determination shows that 20.86% of the total variation in college student expenditures is explained by Going Out Frequencies. This figure is not high enough, but this model still valid as college student expenditures isn't only influenced by going out frequencies.**\n",
    "4. This linear model just valid for X(Going out frequencies) between 0 and 26"
   ]
  },
  {
   "cell_type": "markdown",
   "metadata": {},
   "source": [
    "##### <font color=#B30019>Predict Response"
   ]
  },
  {
   "cell_type": "code",
   "execution_count": 34,
   "metadata": {},
   "outputs": [
    {
     "data": {
      "text/html": [
       "<div>\n",
       "<style scoped>\n",
       "    .dataframe tbody tr th:only-of-type {\n",
       "        vertical-align: middle;\n",
       "    }\n",
       "\n",
       "    .dataframe tbody tr th {\n",
       "        vertical-align: top;\n",
       "    }\n",
       "\n",
       "    .dataframe thead th {\n",
       "        text-align: right;\n",
       "    }\n",
       "</style>\n",
       "<table border=\"1\" class=\"dataframe\">\n",
       "  <thead>\n",
       "    <tr style=\"text-align: right;\">\n",
       "      <th></th>\n",
       "      <th>X2</th>\n",
       "      <th>Y</th>\n",
       "      <th>Estimated Expenditure</th>\n",
       "    </tr>\n",
       "  </thead>\n",
       "  <tbody>\n",
       "    <tr>\n",
       "      <th>0</th>\n",
       "      <td>8.0</td>\n",
       "      <td>2000000.0</td>\n",
       "      <td>1.821871e+06</td>\n",
       "    </tr>\n",
       "    <tr>\n",
       "      <th>1</th>\n",
       "      <td>1.0</td>\n",
       "      <td>630000.0</td>\n",
       "      <td>8.058213e+05</td>\n",
       "    </tr>\n",
       "    <tr>\n",
       "      <th>2</th>\n",
       "      <td>3.0</td>\n",
       "      <td>300000.0</td>\n",
       "      <td>1.096121e+06</td>\n",
       "    </tr>\n",
       "    <tr>\n",
       "      <th>3</th>\n",
       "      <td>8.0</td>\n",
       "      <td>500000.0</td>\n",
       "      <td>1.821871e+06</td>\n",
       "    </tr>\n",
       "    <tr>\n",
       "      <th>4</th>\n",
       "      <td>7.0</td>\n",
       "      <td>1000000.0</td>\n",
       "      <td>1.676721e+06</td>\n",
       "    </tr>\n",
       "    <tr>\n",
       "      <th>...</th>\n",
       "      <td>...</td>\n",
       "      <td>...</td>\n",
       "      <td>...</td>\n",
       "    </tr>\n",
       "    <tr>\n",
       "      <th>56</th>\n",
       "      <td>7.0</td>\n",
       "      <td>2000000.0</td>\n",
       "      <td>1.676721e+06</td>\n",
       "    </tr>\n",
       "    <tr>\n",
       "      <th>57</th>\n",
       "      <td>7.0</td>\n",
       "      <td>1000000.0</td>\n",
       "      <td>1.676721e+06</td>\n",
       "    </tr>\n",
       "    <tr>\n",
       "      <th>58</th>\n",
       "      <td>2.0</td>\n",
       "      <td>500000.0</td>\n",
       "      <td>9.509713e+05</td>\n",
       "    </tr>\n",
       "    <tr>\n",
       "      <th>59</th>\n",
       "      <td>15.0</td>\n",
       "      <td>4500000.0</td>\n",
       "      <td>2.837921e+06</td>\n",
       "    </tr>\n",
       "    <tr>\n",
       "      <th>60</th>\n",
       "      <td>14.0</td>\n",
       "      <td>3600000.0</td>\n",
       "      <td>2.692771e+06</td>\n",
       "    </tr>\n",
       "  </tbody>\n",
       "</table>\n",
       "<p>61 rows × 3 columns</p>\n",
       "</div>"
      ],
      "text/plain": [
       "      X2          Y  Estimated Expenditure\n",
       "0    8.0  2000000.0           1.821871e+06\n",
       "1    1.0   630000.0           8.058213e+05\n",
       "2    3.0   300000.0           1.096121e+06\n",
       "3    8.0   500000.0           1.821871e+06\n",
       "4    7.0  1000000.0           1.676721e+06\n",
       "..   ...        ...                    ...\n",
       "56   7.0  2000000.0           1.676721e+06\n",
       "57   7.0  1000000.0           1.676721e+06\n",
       "58   2.0   500000.0           9.509713e+05\n",
       "59  15.0  4500000.0           2.837921e+06\n",
       "60  14.0  3600000.0           2.692771e+06\n",
       "\n",
       "[61 rows x 3 columns]"
      ]
     },
     "execution_count": 34,
     "metadata": {},
     "output_type": "execute_result"
    }
   ],
   "source": [
    "H1 = model1.predict(x)\n",
    "df4['Estimated Expenditure'] = H1\n",
    "df4"
   ]
  },
  {
   "cell_type": "markdown",
   "metadata": {},
   "source": [
    "##### <font color=#B30019> Calculate Residual"
   ]
  },
  {
   "cell_type": "code",
   "execution_count": 35,
   "metadata": {},
   "outputs": [
    {
     "data": {
      "text/html": [
       "<div>\n",
       "<style scoped>\n",
       "    .dataframe tbody tr th:only-of-type {\n",
       "        vertical-align: middle;\n",
       "    }\n",
       "\n",
       "    .dataframe tbody tr th {\n",
       "        vertical-align: top;\n",
       "    }\n",
       "\n",
       "    .dataframe thead th {\n",
       "        text-align: right;\n",
       "    }\n",
       "</style>\n",
       "<table border=\"1\" class=\"dataframe\">\n",
       "  <thead>\n",
       "    <tr style=\"text-align: right;\">\n",
       "      <th></th>\n",
       "      <th>X2</th>\n",
       "      <th>Y</th>\n",
       "      <th>Estimated Expenditure</th>\n",
       "      <th>Residual</th>\n",
       "    </tr>\n",
       "  </thead>\n",
       "  <tbody>\n",
       "    <tr>\n",
       "      <th>0</th>\n",
       "      <td>8.0</td>\n",
       "      <td>2000000.0</td>\n",
       "      <td>1.821871e+06</td>\n",
       "      <td>1.781287e+05</td>\n",
       "    </tr>\n",
       "    <tr>\n",
       "      <th>1</th>\n",
       "      <td>1.0</td>\n",
       "      <td>630000.0</td>\n",
       "      <td>8.058213e+05</td>\n",
       "      <td>-1.758213e+05</td>\n",
       "    </tr>\n",
       "    <tr>\n",
       "      <th>2</th>\n",
       "      <td>3.0</td>\n",
       "      <td>300000.0</td>\n",
       "      <td>1.096121e+06</td>\n",
       "      <td>-7.961213e+05</td>\n",
       "    </tr>\n",
       "    <tr>\n",
       "      <th>3</th>\n",
       "      <td>8.0</td>\n",
       "      <td>500000.0</td>\n",
       "      <td>1.821871e+06</td>\n",
       "      <td>-1.321871e+06</td>\n",
       "    </tr>\n",
       "    <tr>\n",
       "      <th>4</th>\n",
       "      <td>7.0</td>\n",
       "      <td>1000000.0</td>\n",
       "      <td>1.676721e+06</td>\n",
       "      <td>-6.767213e+05</td>\n",
       "    </tr>\n",
       "    <tr>\n",
       "      <th>...</th>\n",
       "      <td>...</td>\n",
       "      <td>...</td>\n",
       "      <td>...</td>\n",
       "      <td>...</td>\n",
       "    </tr>\n",
       "    <tr>\n",
       "      <th>56</th>\n",
       "      <td>7.0</td>\n",
       "      <td>2000000.0</td>\n",
       "      <td>1.676721e+06</td>\n",
       "      <td>3.232787e+05</td>\n",
       "    </tr>\n",
       "    <tr>\n",
       "      <th>57</th>\n",
       "      <td>7.0</td>\n",
       "      <td>1000000.0</td>\n",
       "      <td>1.676721e+06</td>\n",
       "      <td>-6.767213e+05</td>\n",
       "    </tr>\n",
       "    <tr>\n",
       "      <th>58</th>\n",
       "      <td>2.0</td>\n",
       "      <td>500000.0</td>\n",
       "      <td>9.509713e+05</td>\n",
       "      <td>-4.509713e+05</td>\n",
       "    </tr>\n",
       "    <tr>\n",
       "      <th>59</th>\n",
       "      <td>15.0</td>\n",
       "      <td>4500000.0</td>\n",
       "      <td>2.837921e+06</td>\n",
       "      <td>1.662079e+06</td>\n",
       "    </tr>\n",
       "    <tr>\n",
       "      <th>60</th>\n",
       "      <td>14.0</td>\n",
       "      <td>3600000.0</td>\n",
       "      <td>2.692771e+06</td>\n",
       "      <td>9.072287e+05</td>\n",
       "    </tr>\n",
       "  </tbody>\n",
       "</table>\n",
       "<p>61 rows × 4 columns</p>\n",
       "</div>"
      ],
      "text/plain": [
       "      X2          Y  Estimated Expenditure      Residual\n",
       "0    8.0  2000000.0           1.821871e+06  1.781287e+05\n",
       "1    1.0   630000.0           8.058213e+05 -1.758213e+05\n",
       "2    3.0   300000.0           1.096121e+06 -7.961213e+05\n",
       "3    8.0   500000.0           1.821871e+06 -1.321871e+06\n",
       "4    7.0  1000000.0           1.676721e+06 -6.767213e+05\n",
       "..   ...        ...                    ...           ...\n",
       "56   7.0  2000000.0           1.676721e+06  3.232787e+05\n",
       "57   7.0  1000000.0           1.676721e+06 -6.767213e+05\n",
       "58   2.0   500000.0           9.509713e+05 -4.509713e+05\n",
       "59  15.0  4500000.0           2.837921e+06  1.662079e+06\n",
       "60  14.0  3600000.0           2.692771e+06  9.072287e+05\n",
       "\n",
       "[61 rows x 4 columns]"
      ]
     },
     "execution_count": 35,
     "metadata": {},
     "output_type": "execute_result"
    }
   ],
   "source": [
    "df4['Residual'] = df4['Y'] - df4['Estimated Expenditure'] #residual = actual - estimated ---> u = y - yhead\n",
    "df4"
   ]
  },
  {
   "cell_type": "code",
   "execution_count": 36,
   "metadata": {},
   "outputs": [
    {
     "data": {
      "text/plain": [
       "0.0"
      ]
     },
     "execution_count": 36,
     "metadata": {},
     "output_type": "execute_result"
    }
   ],
   "source": [
    "df4['Residual'].sum()"
   ]
  },
  {
   "cell_type": "markdown",
   "metadata": {},
   "source": [
    "Seharusnya jumlah residual yang baik mendekati 0. Perhitungan di atas menunjukkan residual yang baik karena mendekati 0"
   ]
  },
  {
   "cell_type": "markdown",
   "metadata": {},
   "source": [
    "##### <font color=#B30019>Visualization of Linear Regression Model"
   ]
  },
  {
   "cell_type": "code",
   "execution_count": 37,
   "metadata": {},
   "outputs": [
    {
     "data": {
      "image/png": "[encoded data removed]",
      "text/plain": [
       "<Figure size 720x576 with 1 Axes>"
      ]
     },
     "metadata": {
      "needs_background": "light"
     },
     "output_type": "display_data"
    }
   ],
   "source": [
    "fig, ax = plt.subplots(figsize=(10, 8)) \n",
    "plt.scatter(df4['X2'],df4['Y'], color=\"blue\", marker=\"+\")\n",
    "plt.plot(x,LR1.predict(x), color=\"red\")\n",
    "plt.ylabel('College Student Expenditures')\n",
    "plt.xlabel('Going Out Frequencies')\n",
    "plt.show()"
   ]
  },
  {
   "cell_type": "markdown",
   "metadata": {},
   "source": [
    "Dari visualisasi di atas dapat dilihat bahwa antara pengeluaran mahasiswa di Indonesia dengan frekuensi bepergian ke luar rumah memiliki korelasi yang positif. Lebih lanjut, juga dapat dilihat bahwa masih banyak perkiraan yang menyimpang dari data sebenarnya. Hal ini mengingat nilai dari koefisien determinasi yang rendah, yaitu sebesar 20.86%."
   ]
  },
  {
   "cell_type": "markdown",
   "metadata": {},
   "source": [
    "##### <font color=#B30019>Linear Regression with Statsmodels"
   ]
  },
  {
   "cell_type": "code",
   "execution_count": 38,
   "metadata": {},
   "outputs": [
    {
     "name": "stdout",
     "output_type": "stream",
     "text": [
      "                            OLS Regression Results                            \n",
      "==============================================================================\n",
      "Dep. Variable:                      y   R-squared:                       0.209\n",
      "Model:                            OLS   Adj. R-squared:                  0.195\n",
      "Method:                 Least Squares   F-statistic:                     15.55\n",
      "Date:                Fri, 01 Apr 2022   Prob (F-statistic):           0.000216\n",
      "Time:                        22:41:08   Log-Likelihood:                -955.47\n",
      "No. Observations:                  61   AIC:                             1915.\n",
      "Df Residuals:                      59   BIC:                             1919.\n",
      "Df Model:                           1                                         \n",
      "Covariance Type:            nonrobust                                         \n",
      "==============================================================================\n",
      "                 coef    std err          t      P>|t|      [0.025      0.975]\n",
      "------------------------------------------------------------------------------\n",
      "const       6.607e+05   3.26e+05      2.026      0.047    8077.340    1.31e+06\n",
      "x1          1.451e+05   3.68e+04      3.943      0.000    7.15e+04    2.19e+05\n",
      "==============================================================================\n",
      "Omnibus:                       38.021   Durbin-Watson:                   2.164\n",
      "Prob(Omnibus):                  0.000   Jarque-Bera (JB):              116.546\n",
      "Skew:                           1.814   Prob(JB):                     4.93e-26\n",
      "Kurtosis:                       8.718   Cond. No.                         14.6\n",
      "==============================================================================\n",
      "\n",
      "Notes:\n",
      "[1] Standard Errors assume that the covariance matrix of the errors is correctly specified.\n"
     ]
    }
   ],
   "source": [
    "x = sm.add_constant(df4['X2'].to_numpy())\n",
    "Y = df4['Y'].to_numpy()\n",
    "LR1 = sm.OLS(Y, x)\n",
    "model1 = LR1.fit()\n",
    "print(model1.summary())"
   ]
  },
  {
   "cell_type": "markdown",
   "metadata": {},
   "source": [
    "From the summary of the model above, we can draw the following conclusions:\n",
    "1. The value of skewness (1.814) indicates that the data are highly skewed.\n",
    "2. The value of kurtosis (8.718) indicates that the data has heavier tails than a normal distribution as the value of kurtosis is greater than 3.\n",
    "3. Jarque-Bera test dengan alpha 5%, H0: distribusi dari residual adalah distribusi normal, H1: distribusi dari residual bukan distribusi normal. Dari hasil di atas dapat dilihat bahwa Probabilitas dari Jarque-Bera lebih kecil daripada alpha (0.05), sehingga H0 ditolak dan dapat disimpulkan bahwa distribusi residual tidak normal.\n",
    "4. Test statistik durbin watson digunakan untuk mendeteksi autocorrelation pada residual dalam analisis regresi. Dari summary di atas dapat dilihat bahwa nilai dari Durbin Watson sebesar 2.164 menandakan bahwa tidak ada autokorelasi pada residual dengan toleransi interval nilai DW 1,5 - 2,5 (rule of thumb).\n",
    "5. F Test dengan alpha 5%, H0: B1 = 0, H1 :B1 ≠ 0. Dari summary di atas didapatkan nilai Prob (F-statistic) sebesar 0.000216 yang menandakan bahwa Prob(Fstat) < p-value, sehingga H0 ditolak dan dapat disimpulkan bahwa B1 ≠ 0"
   ]
  },
  {
   "cell_type": "markdown",
   "metadata": {
    "id": "7toGUSCoq62f"
   },
   "source": [
    "### <font color=#C05780>Normality test for Residuals use Anderson-Darling Test"
   ]
  },
  {
   "cell_type": "code",
   "execution_count": 39,
   "metadata": {
    "id": "OC4nsB0trCkp"
   },
   "outputs": [
    {
     "name": "stdout",
     "output_type": "stream",
     "text": [
      "p-value from the test Anderson-Darling test below 0.05 generally means non-normal: 2.8858714336164538e-05\n"
     ]
    },
    {
     "data": {
      "image/png": "[encoded data removed]",
      "text/plain": [
       "<Figure size 576x288 with 1 Axes>"
      ]
     },
     "metadata": {
      "needs_background": "light"
     },
     "output_type": "display_data"
    },
    {
     "name": "stdout",
     "output_type": "stream",
     "text": [
      "Residuals are not normally distributed\n"
     ]
    }
   ],
   "source": [
    "# Performing the test on the residuals\n",
    "p_value = normal_ad(df4['Residual'])[1]\n",
    "print('p-value from the test Anderson-Darling test below 0.05 generally means non-normal:', p_value)\n",
    "\n",
    "# Plotting the residuals distribution\n",
    "plt.subplots(figsize=(8, 4))\n",
    "plt.title('Distribution of Residuals', fontsize=18)\n",
    "sns.distplot(df4['Residual'])\n",
    "plt.show()\n",
    "\n",
    "# Reporting the normality of the residuals\n",
    "if p_value < 0.05:\n",
    "    print('Residuals are not normally distributed')\n",
    "else:\n",
    "    print('Residuals are normally distributed')"
   ]
  },
  {
   "cell_type": "markdown",
   "metadata": {
    "id": "1BKBpf53rDZQ"
   },
   "source": [
    "### <font color=#FF5851>Linearity test"
   ]
  },
  {
   "cell_type": "code",
   "execution_count": 40,
   "metadata": {},
   "outputs": [
    {
     "data": {
      "image/png": "[encoded data removed]",
      "text/plain": [
       "<Figure size 360x360 with 1 Axes>"
      ]
     },
     "metadata": {
      "needs_background": "light"
     },
     "output_type": "display_data"
    }
   ],
   "source": [
    "sns.lmplot(x='Y', y='Estimated Expenditure', data=df4, fit_reg=False, size=5)\n",
    "    \n",
    "# Plotting the diagonal line\n",
    "line_coords = np.arange(df4[['Y', 'Estimated Expenditure']].min().min()-10, \n",
    "                        df4[['Y','Estimated Expenditure']].max().max()+10)\n",
    "plt.plot(line_coords, line_coords,  # X and y points\n",
    "         color='darkorange', linestyle='--')\n",
    "\n",
    "plt.ylabel('Estimated College Student Expenditure', fontsize=14)\n",
    "plt.xlabel('Actual College Student Expenditure', fontsize=14)\n",
    "plt.title('Linearity Assumption', fontsize=16)\n",
    "plt.show()"
   ]
  },
  {
   "cell_type": "markdown",
   "metadata": {},
   "source": [
    "Plot sebar menunjukkan titik sisa yang tersebar tidak merata di sekitar garis diagonal, sehingga kita tidak dapat mengasumsikan bahwa ada hubungan linier antara variabel independen dan dependen."
   ]
  },
  {
   "cell_type": "markdown",
   "metadata": {
    "id": "5XDX-Sp8r4mW"
   },
   "source": [
    "### <font color=#00B0BA>Heteroscedasticity test"
   ]
  },
  {
   "cell_type": "markdown",
   "metadata": {},
   "source": [
    "Heteroscedasticity is a condition where the error variance is not constant on the independent variable. "
   ]
  },
  {
   "cell_type": "code",
   "execution_count": 41,
   "metadata": {},
   "outputs": [
    {
     "data": {
      "image/png": "[encoded data removed]",
      "text/plain": [
       "<Figure size 432x288 with 1 Axes>"
      ]
     },
     "metadata": {
      "needs_background": "light"
     },
     "output_type": "display_data"
    }
   ],
   "source": [
    "fitted = 660671.3114754097 + (145150.00000000003 * df4.X2) \n",
    "fig = plt.figure()\n",
    "axes = fig.add_axes([0, 0, 1.0, 1.0]) \n",
    "axes.axhline(color=\"black\", ls=\"--\") # This creates a horizon line (like abline in R)\n",
    "axes.set_xlabel('Fitted Value')\n",
    "axes.set_ylabel('Residuals')\n",
    "axes.set_title('Residuals Versus Fits')\n",
    "axes.scatter(fitted, df4[\"Y\"]  - fitted, marker = \"o\")\n",
    "plt.show()"
   ]
  },
  {
   "cell_type": "markdown",
   "metadata": {},
   "source": [
    "From the visualization above we can conclude that the residuals are not distributed with equal variance or in other words heteroscedasticity is present"
   ]
  },
  {
   "cell_type": "markdown",
   "metadata": {},
   "source": [
    "## <font color=#305F72>Conclusion"
   ]
  },
  {
   "cell_type": "markdown",
   "metadata": {},
   "source": [
    "Dari uji asumsi klasik yang telah dilakukan dapat dilihat bawa:\n",
    "- Distribusi dari residual tidak berdistribusi normal\n",
    "- Terdapat heteroscedasticity\n",
    "- Tidak terdapat hubungan linear antara dependen variabel dan independen variabel\n",
    "\n",
    "Berdasarkan hasil di atas dapat pemodelan ini tidak memenuhi uji asumsi klasik. Oleh karena itu, pemodelan ini dianggap memiliki performa yang kurang baik untuk memprediksi rata-rata pengeluaran mahasiswa di Indonesia dalam 1 bulan dengan menggunakan satu variabel independen (frekuensi bepergian ke luar rumah). Artinya, terdapat faktor-faktor lain yang lebih memengaruhi rata-rata pengeluaran mahasiswa di Indonesia dalam 1 bulan secara signifikan."
   ]
  }
 ],
 "metadata": {
  "colab": {
   "collapsed_sections": [],
   "name": "Kuis Econometrics Kelompok 2 Class C.ipynb",
   "provenance": []
  },
  "kernelspec": {
   "display_name": "Python 3",
   "language": "python",
   "name": "python3"
  },
  "language_info": {
   "codemirror_mode": {
    "name": "ipython",
    "version": 3
   },
   "file_extension": ".py",
   "mimetype": "text/x-python",
   "name": "python",
   "nbconvert_exporter": "python",
   "pygments_lexer": "ipython3",
   "version": "3.8.5"
  }
 },
 "nbformat": 4,
 "nbformat_minor": 1
}
